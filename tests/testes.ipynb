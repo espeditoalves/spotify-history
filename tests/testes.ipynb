{
 "cells": [
  {
   "cell_type": "code",
   "execution_count": 1,
   "metadata": {},
   "outputs": [
    {
     "name": "stdout",
     "output_type": "stream",
     "text": [
      "Caminho do diretório atual: /home/jovyan/work\n",
      "Python executable: /home/jovyan/.cache/pypoetry/virtualenvs/spotify-history-WFljCIXp-py3.11/bin/python\n"
     ]
    }
   ],
   "source": [
    "import os\n",
    "import sys\n",
    "\n",
    "# Exibir o caminho do diretório atual\n",
    "print(\"Caminho do diretório atual:\", os.getcwd())\n",
    "print(\"Python executable:\", sys.executable)"
   ]
  }
 ],
 "metadata": {
  "kernelspec": {
   "display_name": "venv_spotify",
   "language": "python",
   "name": "spotify-history-ambiente_spotify-1"
  }
 },
 "nbformat": 4,
 "nbformat_minor": 2
}
