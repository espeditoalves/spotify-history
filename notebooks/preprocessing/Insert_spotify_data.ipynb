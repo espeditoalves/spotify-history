{
 "cells": [
  {
   "cell_type": "markdown",
   "metadata": {},
   "source": [
    "## Configuração de conexão Pyspark"
   ]
  },
  {
   "cell_type": "code",
   "execution_count": 1,
   "metadata": {},
   "outputs": [],
   "source": [
    "import time\n",
    "from datetime import timedelta\n",
    "\n",
    "from pyspark.sql import SparkSession\n",
    "import os\n",
    "from dotenv import load_dotenv\n",
    "load_dotenv(os.path.join('config', '.env'))\n",
    "\n",
    "# Configurar SparkSession\n",
    "spark = SparkSession.builder \\\n",
    "    .appName(\"PostgreSQL to Spark\") \\\n",
    "    .config(\"spark.jars\", \"/caminho/para/postgresql-<versao>.jar\") \\\n",
    "    .getOrCreate()\n",
    "\n",
    "# Carregar variáveis de ambiente do arquivo .env\n",
    "\n",
    "# Configurações do banco de dados\n",
    "db_config = {\n",
    "    'host': os.getenv('DB_HOST'),\n",
    "    'port': os.getenv('DB_PORT'),\n",
    "    'dbname': os.getenv('DB_NAME'),\n",
    "    'user': os.getenv('DB_USER'),\n",
    "    'password': os.getenv('DB_PASSWORD')\n",
    "}\n",
    "\n",
    "# URL de conexão JDBC\n",
    "jdbc_url = f\"jdbc:postgresql://{db_config['host']}:{db_config['port']}/{db_config['dbname']}\"\n",
    "\n",
    "# Propriedades de conexão\n",
    "connection_properties = {\n",
    "    \"user\": db_config['user'],\n",
    "    \"password\": db_config['password'],\n",
    "    \"driver\": \"org.postgresql.Driver\"\n",
    "}"
   ]
  },
  {
   "cell_type": "code",
   "execution_count": 2,
   "metadata": {},
   "outputs": [],
   "source": [
    "start_time_geral = time.time()"
   ]
  },
  {
   "cell_type": "markdown",
   "metadata": {},
   "source": [
    "## Configuração de conexão ao Spotify"
   ]
  },
  {
   "cell_type": "code",
   "execution_count": 3,
   "metadata": {},
   "outputs": [],
   "source": [
    "import os\n",
    "from dotenv import load_dotenv \n",
    "import spotipy \n",
    "from spotipy.oauth2 import SpotifyClientCredentials\n",
    "import src.spotify_data as spotify_data\n",
    "\n",
    "load_dotenv(os.path.join('config', '.env'))\n",
    "# Obter as credenciais do ambiente \n",
    "client_id = os.getenv('CLIENT_ID') \n",
    "client_secret = os.getenv('CLIENT_SECRET')\n",
    "\n",
    "# Configuração da autenticação\n",
    "client_credentials_manager = SpotifyClientCredentials(client_id=client_id, client_secret=client_secret)\n",
    "sp = spotipy.Spotify(client_credentials_manager=client_credentials_manager)"
   ]
  },
  {
   "cell_type": "markdown",
   "metadata": {},
   "source": [
    "## Coleta de dados: Banco de dados"
   ]
  },
  {
   "cell_type": "code",
   "execution_count": 4,
   "metadata": {},
   "outputs": [],
   "source": [
    "start_time = time.time()"
   ]
  },
  {
   "cell_type": "code",
   "execution_count": null,
   "metadata": {},
   "outputs": [],
   "source": [
    "df = spark.read.jdbc(url=jdbc_url, table=\"all_tracks_registry\", properties=connection_properties)\n",
    "df.show(4)\n"
   ]
  },
  {
   "cell_type": "code",
   "execution_count": null,
   "metadata": {},
   "outputs": [],
   "source": [
    "df.count()"
   ]
  },
  {
   "cell_type": "code",
   "execution_count": null,
   "metadata": {},
   "outputs": [],
   "source": [
    "df.printSchema()"
   ]
  },
  {
   "cell_type": "code",
   "execution_count": null,
   "metadata": {},
   "outputs": [],
   "source": [
    "end_time = time.time()\n",
    "elapsed_time = end_time - start_time\n",
    "# Converter o tempo decorrido para o formato HH:MM:SS \n",
    "print(f\"Tempo de processamento: {str(timedelta(seconds=int(elapsed_time)))}\")"
   ]
  },
  {
   "cell_type": "markdown",
   "metadata": {},
   "source": [
    "## Coleta dados do Spotify e cria novos bancos"
   ]
  },
  {
   "cell_type": "code",
   "execution_count": 9,
   "metadata": {},
   "outputs": [],
   "source": [
    "start_time = time.time()"
   ]
  },
  {
   "cell_type": "code",
   "execution_count": 10,
   "metadata": {},
   "outputs": [],
   "source": [
    "# Funções de banco de dados Tracks e Artistics\n",
    "import src.db_table_track as db_table_track\n",
    "import src.db_table_artistcs as db_table_artistcs"
   ]
  },
  {
   "cell_type": "code",
   "execution_count": null,
   "metadata": {},
   "outputs": [],
   "source": [
    "# Selecionar e coletar os dados distintos \n",
    "distinct_uris = df.select('spotify_track_uri').distinct().collect() \n",
    "# Transformar em lista de valores simples \n",
    "uris_list = [row['spotify_track_uri'] for row in distinct_uris]\n",
    "print(f'Quantidade de faixas: {len(uris_list)}')"
   ]
  },
  {
   "cell_type": "code",
   "execution_count": null,
   "metadata": {},
   "outputs": [],
   "source": [
    "n = 0\n",
    "for track_uri in uris_list:\n",
    "    # Coleta de dados da faixa no spotify \n",
    "    dados_faixa = spotify_data.obter_dados_faixa(sp = sp, track_uri = track_uri)\n",
    "    # Inseri dados da faixa no banco\n",
    "    db_table_track.insert_track_data(dados_faixa)\n",
    "\n",
    "    # Coleta de dados do Artista no Spotify\n",
    "    artist_id = dados_faixa['main_artist_URI']\n",
    "    dados_artista = spotify_data.obter_dados_artista(sp=sp, artist_uri = artist_id)\n",
    "    # Inseri dados do Artista no Banco\n",
    "    db_table_artistcs.insert_artist_data(dados_artista)\n",
    "    print(f'Faixa número:{n}')\n",
    "    n = n + 1\n",
    "    "
   ]
  },
  {
   "cell_type": "code",
   "execution_count": null,
   "metadata": {},
   "outputs": [],
   "source": [
    "end_time = time.time()\n",
    "elapsed_time = end_time - start_time\n",
    "# Converter o tempo decorrido para o formato HH:MM:SS \n",
    "print(f\"Tempo de processamento: {str(timedelta(seconds=int(elapsed_time)))}\")\n"
   ]
  },
  {
   "cell_type": "code",
   "execution_count": null,
   "metadata": {},
   "outputs": [],
   "source": [
    "end_time_geral = time.time()"
   ]
  },
  {
   "cell_type": "code",
   "execution_count": null,
   "metadata": {},
   "outputs": [],
   "source": [
    "# import pyspark.sql.functions as F\n",
    "# df = df.withColumn('ano-mes-dia', F.to_date(F.col(\"ts\")))\n",
    "# df = df.withColumn(\"ano-mes\", F.concat_ws(\"-\", F.year(df[\"ts\"]), F.month(df[\"ts\"])))\n",
    "# df = df.withColumn(\"ano_mes_str\", F.date_format(df[\"ts\"], \"yyyy-MM\")) \n",
    "# df = df.withColumn(\"ano_mes_date\", F.to_date(df[\"ano_mes_str\"], \"yyyy-MM\"))\n",
    "# df.show(5, truncate=False)"
   ]
  }
 ],
 "metadata": {
  "kernelspec": {
   "display_name": "venv_spotify",
   "language": "python",
   "name": "spotify-history-ambiente_spotify-1"
  },
  "language_info": {
   "codemirror_mode": {
    "name": "ipython",
    "version": 3
   },
   "file_extension": ".py",
   "mimetype": "text/x-python",
   "name": "python",
   "nbconvert_exporter": "python",
   "pygments_lexer": "ipython3",
   "version": "3.11.5"
  }
 },
 "nbformat": 4,
 "nbformat_minor": 2
}
