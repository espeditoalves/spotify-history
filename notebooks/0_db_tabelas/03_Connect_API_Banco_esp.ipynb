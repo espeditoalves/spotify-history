{
 "cells": [
  {
   "cell_type": "markdown",
   "metadata": {},
   "source": [
    "# 03_Connect_API_Banco_esp"
   ]
  },
  {
   "cell_type": "markdown",
   "metadata": {},
   "source": [
    "Este notebook tem o objetivo de realizar uma conexão com o Spotify por meio das minhas credenciais de acesso, que podem ser obtidas através do link [fornecido](https://developer.spotify.com/dashboard/b8879123eaf64ef4b7d64c86afb417fd/settings).\n",
    "\n",
    "Essa conexão permite a extração de informações sobre faixas e artistas, utilizando códigos específicos de faixas e artistas.\n",
    "\n",
    "Com os códigos obtidos dos dados do meu Spotify, consigo acessar informações detalhadas sobre o meu estilo musical.\n",
    "\n",
    "\n",
    "A inspiração para a utilização dessa ferramenta veio do artigo [Consumindo a API do Spotify: um breve passo a passo](https://medium.com/reprogramabr/consumindo-a-api-do-spotify-um-breve-passo-a-passo-fd210312fdd).\n",
    "\n",
    "\n",
    "> Referências\n",
    "\n",
    "- ReprogramaBR. (2020). Consumindo a API do Spotify: um breve passo a passo. Medium. [Link](https://medium.com/reprogramabr/consumindo-a-api-do-spotify-um-breve-passo-a-passo-fd210312fdd)\n"
   ]
  },
  {
   "cell_type": "markdown",
   "metadata": {},
   "source": [
    "<a id='indice'></a>\n",
    "## Indice\n",
    "\n",
    "* [0. Importa bibliotecas e Variáveis de Ambiente](#0)\n",
    "* [1. Configuração de conexão Pyspark](#1)\n",
    "* [2. Configuração de conexão ao Spotify](#2)\n",
    "* [3. Coleta de dados: Banco de dados](#3)\n",
    "* [4. Extração e Upload](#4)"
   ]
  },
  {
   "cell_type": "markdown",
   "metadata": {},
   "source": [
    "<a id='0'></a>\n",
    "---\n",
    "\n",
    "[Retorna ao Índice](#indice)\n",
    "\n",
    "## 0. Importa bibliotecas e Variáveis de Ambiente"
   ]
  },
  {
   "cell_type": "code",
   "execution_count": 1,
   "metadata": {},
   "outputs": [],
   "source": [
    "%load_ext autoreload\n",
    "%autoreload 2\n",
    "\n",
    "# Importar bibliotecas padrão\n",
    "import time\n",
    "from datetime import timedelta\n",
    "import os\n",
    "\n",
    "# Carregar variáveis de ambiente\n",
    "from dotenv import load_dotenv\n",
    "load_dotenv(os.path.join('config', '.env'))\n",
    "\n",
    "# Importar bibliotecas para PostgreSQL\n",
    "import psycopg2\n",
    "\n",
    "# Importar bibliotecas para Spotify API\n",
    "import spotipy\n",
    "from spotipy.oauth2 import SpotifyClientCredentials\n",
    "import src.spotify_data as spotify_data\n",
    "\n",
    "# Importar bibliotecas para PySpark\n",
    "from pyspark.sql import SparkSession\n",
    "\n",
    "\n",
    "user_name = 'User_E'\n",
    "user = True if user_name == 'User_E'  else False\n",
    "start_time_geral = time.time()"
   ]
  },
  {
   "cell_type": "markdown",
   "metadata": {},
   "source": [
    "<a id='1'></a>\n",
    "---\n",
    "\n",
    "[Retorna ao Índice](#indice)\n",
    "\n",
    "## 1. Configuração de conexão Pyspark"
   ]
  },
  {
   "cell_type": "code",
   "execution_count": 2,
   "metadata": {},
   "outputs": [],
   "source": [
    "# Configurar SparkSession\n",
    "spark = SparkSession.builder \\\n",
    "    .appName(\"PostgreSQL to Spark\") \\\n",
    "    .config(\"spark.jars\", \"/caminho/para/postgresql-<versao>.jar\") \\\n",
    "    .getOrCreate()\n"
   ]
  },
  {
   "cell_type": "code",
   "execution_count": 3,
   "metadata": {},
   "outputs": [],
   "source": [
    "if user:\n",
    "    db_config = {\n",
    "        'host': os.getenv('DB_HOST'),\n",
    "        'port': os.getenv('DB_PORT'),\n",
    "        'dbname': os.getenv('DB_NAME'),\n",
    "        'user': os.getenv('DB_USER'),\n",
    "        'password': os.getenv('DB_PASSWORD')\n",
    "    }\n",
    "\n",
    "else:\n",
    "    db_config = {\n",
    "        'host': os.getenv('DB_HOST'),\n",
    "        'port': os.getenv('DB_PORT'),\n",
    "        'dbname': os.getenv('DB_NAME_2'),\n",
    "        'user': os.getenv('DB_USER'),\n",
    "        'password': os.getenv('DB_PASSWORD')\n",
    "        }\n",
    "\n",
    "# URL de conexão JDBC\n",
    "jdbc_url = f\"jdbc:postgresql://{db_config['host']}:{db_config['port']}/{db_config['dbname']}\"\n",
    "\n",
    "# Propriedades de conexão\n",
    "connection_properties = {\n",
    "    \"user\": db_config['user'],\n",
    "    \"password\": db_config['password'],\n",
    "    \"driver\": \"org.postgresql.Driver\"\n",
    "}"
   ]
  },
  {
   "cell_type": "markdown",
   "metadata": {},
   "source": [
    "<a id='2'></a>\n",
    "---\n",
    "\n",
    "[Retorna ao Índice](#indice)\n",
    "\n",
    "## 2. Configuração de conexão ao Spotify"
   ]
  },
  {
   "cell_type": "code",
   "execution_count": 4,
   "metadata": {},
   "outputs": [],
   "source": [
    "# Carregar variáveis de ambiente do arquivo .env na pasta config \n",
    "if user:\n",
    "    client_id = os.getenv('CLIENT_ID') \n",
    "    client_secret = os.getenv('CLIENT_SECRET')\n",
    "else:\n",
    "    client_id = os.getenv('CLIENT_ID_2') \n",
    "    client_secret = os.getenv('CLIENT_SECRET_2')\n",
    "\n",
    "# Configuração da autenticação\n",
    "client_credentials_manager = SpotifyClientCredentials(client_id=client_id, client_secret=client_secret)\n",
    "sp = spotipy.Spotify(client_credentials_manager=client_credentials_manager)"
   ]
  },
  {
   "cell_type": "markdown",
   "metadata": {},
   "source": [
    "<a id='3'></a>\n",
    "---\n",
    "\n",
    "[Retorna ao Índice](#indice)\n",
    "## 3. Coleta de dados: Banco de dados"
   ]
  },
  {
   "cell_type": "code",
   "execution_count": 5,
   "metadata": {},
   "outputs": [],
   "source": [
    "start_time = time.time()"
   ]
  },
  {
   "cell_type": "code",
   "execution_count": 6,
   "metadata": {},
   "outputs": [
    {
     "name": "stdout",
     "output_type": "stream",
     "text": [
      "+-------------------+--------------------+---------+------------+--------------+--------------------------+---------------------------------+--------------------------------+--------------------+------------+-----------------+-------------------+------------+----------+-------+-------+-------+-----------------+--------------+\n",
      "|                 ts|            platform|ms_played|conn_country|       ip_addr|master_metadata_track_name|master_metadata_album_artist_name|master_metadata_album_album_name|   spotify_track_uri|episode_name|episode_show_name|spotify_episode_uri|reason_start|reason_end|shuffle|skipped|offline|offline_timestamp|incognito_mode|\n",
      "+-------------------+--------------------+---------+------------+--------------+--------------------------+---------------------------------+--------------------------------+--------------------+------------+-----------------+-------------------+------------+----------+-------+-------+-------+-----------------+--------------+\n",
      "|2019-11-11 00:10:22|Android OS 9 API ...|        0|          BR|187.119.230.96|                Ta Tum Tum|                       MC Kevinho|                      Ta Tum Tum|spotify:track:6et...|        null|             null|               null|    clickrow|   endplay|   true|  false|  false|             null|         false|\n",
      "|2019-11-11 00:11:09|Android OS 9 API ...|        0|          BR|187.119.230.96|      Aperte O Play - A...|                 Simone & Simaria|                  Aperte O Play!|spotify:track:5M8...|        null|             null|               null|    clickrow|   endplay|   true|  false|  false|             null|         false|\n",
      "|2019-11-11 00:11:16|Android OS 9 API ...|     4886|          BR|187.119.230.96|                    Blurry|                   Puddle Of Mudd|                      Come Clean|spotify:track:0FL...|        null|             null|               null|    clickrow|    fwdbtn|   true|  false|  false|             null|         false|\n",
      "|2019-11-11 00:15:36|Android OS 9 API ...|     5858|          BR|187.119.230.96|      Under Pressure - ...|                            Queen|             Platinum Collection|spotify:track:6in...|        null|             null|               null|      fwdbtn|    fwdbtn|   true|  false|  false|             null|         false|\n",
      "+-------------------+--------------------+---------+------------+--------------+--------------------------+---------------------------------+--------------------------------+--------------------+------------+-----------------+-------------------+------------+----------+-------+-------+-------+-----------------+--------------+\n",
      "only showing top 4 rows\n",
      "\n"
     ]
    }
   ],
   "source": [
    "df = spark.read.jdbc(url=jdbc_url, table=\"all_tracks_registry\", properties=connection_properties)\n",
    "df.show(4)\n"
   ]
  },
  {
   "cell_type": "code",
   "execution_count": 7,
   "metadata": {},
   "outputs": [
    {
     "data": {
      "text/plain": [
       "74704"
      ]
     },
     "execution_count": 7,
     "metadata": {},
     "output_type": "execute_result"
    }
   ],
   "source": [
    "df.count()"
   ]
  },
  {
   "cell_type": "code",
   "execution_count": 8,
   "metadata": {},
   "outputs": [
    {
     "name": "stdout",
     "output_type": "stream",
     "text": [
      "root\n",
      " |-- ts: timestamp (nullable = true)\n",
      " |-- platform: string (nullable = true)\n",
      " |-- ms_played: integer (nullable = true)\n",
      " |-- conn_country: string (nullable = true)\n",
      " |-- ip_addr: string (nullable = true)\n",
      " |-- master_metadata_track_name: string (nullable = true)\n",
      " |-- master_metadata_album_artist_name: string (nullable = true)\n",
      " |-- master_metadata_album_album_name: string (nullable = true)\n",
      " |-- spotify_track_uri: string (nullable = true)\n",
      " |-- episode_name: string (nullable = true)\n",
      " |-- episode_show_name: string (nullable = true)\n",
      " |-- spotify_episode_uri: string (nullable = true)\n",
      " |-- reason_start: string (nullable = true)\n",
      " |-- reason_end: string (nullable = true)\n",
      " |-- shuffle: boolean (nullable = true)\n",
      " |-- skipped: boolean (nullable = true)\n",
      " |-- offline: boolean (nullable = true)\n",
      " |-- offline_timestamp: timestamp (nullable = true)\n",
      " |-- incognito_mode: boolean (nullable = true)\n",
      "\n"
     ]
    }
   ],
   "source": [
    "df.printSchema()"
   ]
  },
  {
   "cell_type": "code",
   "execution_count": 9,
   "metadata": {},
   "outputs": [
    {
     "name": "stdout",
     "output_type": "stream",
     "text": [
      "Tempo de processamento: 0:00:06\n"
     ]
    }
   ],
   "source": [
    "end_time = time.time()\n",
    "elapsed_time = end_time - start_time\n",
    "# Converter o tempo decorrido para o formato HH:MM:SS \n",
    "print(f\"Tempo de processamento: {str(timedelta(seconds=int(elapsed_time)))}\")"
   ]
  },
  {
   "cell_type": "markdown",
   "metadata": {},
   "source": [
    "<a id='4'></a>\n",
    "---\n",
    "\n",
    "[Retorna ao Índice](#indice)\n",
    "## 4. Extração e Upload"
   ]
  },
  {
   "cell_type": "code",
   "execution_count": 10,
   "metadata": {},
   "outputs": [],
   "source": [
    "start_time = time.time()"
   ]
  },
  {
   "cell_type": "code",
   "execution_count": 11,
   "metadata": {},
   "outputs": [],
   "source": [
    "# Funções de banco de dados Tracks e Artistics\n",
    "import src.db_table_track as db_table_track\n",
    "import src.db_table_artistcs as db_table_artistcs"
   ]
  },
  {
   "cell_type": "code",
   "execution_count": 12,
   "metadata": {},
   "outputs": [
    {
     "name": "stdout",
     "output_type": "stream",
     "text": [
      "Quantidade de faixas: 14403\n"
     ]
    }
   ],
   "source": [
    "# Selecionar e coletar os dados distintos \n",
    "distinct_uris = df.select('spotify_track_uri').distinct().collect() \n",
    "# Transformar em lista de valores simples \n",
    "uris_list = [row['spotify_track_uri'] for row in distinct_uris]\n",
    "print(f'Quantidade de faixas: {len(uris_list)}')"
   ]
  },
  {
   "cell_type": "code",
   "execution_count": 13,
   "metadata": {},
   "outputs": [
    {
     "name": "stdout",
     "output_type": "stream",
     "text": [
      "Faixa número:0\n",
      "Faixa número:1\n",
      "Faixa número:2\n",
      "Faixa número:3\n",
      "Faixa número:4\n",
      "Faixa número:5\n",
      "Faixa número:6\n",
      "Faixa número:7\n",
      "Faixa número:8\n",
      "Faixa número:9\n",
      "Faixa número:10\n",
      "Faixa número:11\n",
      "Faixa número:12\n",
      "Faixa número:13\n",
      "Faixa número:14\n",
      "Faixa número:15\n",
      "Faixa número:16\n",
      "Faixa número:17\n",
      "Faixa número:18\n",
      "Faixa número:19\n",
      "n:19, ARTISTIC Já existe no banco\n",
      "Faixa número:20\n",
      "Faixa número:21\n",
      "Faixa número:22\n",
      "Faixa número:23\n",
      "Faixa número:24\n",
      "Faixa número:25\n",
      "Faixa número:26\n",
      "Faixa número:27\n",
      "Faixa número:28\n",
      "Faixa número:29\n",
      "Faixa número:30\n",
      "Faixa número:31\n",
      "Faixa número:32\n",
      "Faixa número:33\n",
      "Faixa número:34\n",
      "Faixa número:35\n",
      "Faixa número:36\n",
      "Faixa número:37\n",
      "Faixa número:38\n",
      "Faixa número:39\n",
      "Faixa número:40\n",
      "Faixa número:41\n",
      "Faixa número:42\n",
      "Faixa número:43\n",
      "Faixa número:44\n",
      "Faixa número:45\n",
      "Faixa número:46\n",
      "Faixa número:47\n",
      "Faixa número:48\n",
      "Faixa número:49\n",
      "Faixa número:50\n",
      "Faixa número:51\n",
      "Faixa número:52\n",
      "Faixa número:53\n",
      "Faixa número:54\n",
      "Faixa número:55\n",
      "Faixa número:56\n",
      "Faixa número:57\n",
      "Faixa número:58\n",
      "Faixa número:59\n",
      "Faixa número:60\n",
      "Faixa número:61\n",
      "Faixa número:62\n",
      "Faixa número:63\n",
      "Faixa número:64\n",
      "Faixa número:65\n",
      "Faixa número:66\n",
      "Faixa número:67\n",
      "Faixa número:68\n",
      "Faixa número:69\n",
      "Faixa número:70\n",
      "Faixa número:71\n",
      "Faixa número:72\n",
      "Faixa número:73\n",
      "Faixa número:74\n",
      "n:74, ARTISTIC Já existe no banco\n",
      "Faixa número:75\n",
      "Faixa número:76\n",
      "Faixa número:77\n",
      "Faixa número:78\n",
      "Faixa número:79\n",
      "Faixa número:80\n",
      "Faixa número:81\n",
      "Faixa número:82\n",
      "Faixa número:83\n",
      "Faixa número:84\n",
      "n:84, ARTISTIC Já existe no banco\n",
      "Faixa número:85\n",
      "Faixa número:86\n",
      "Faixa número:87\n",
      "Faixa número:88\n",
      "n:88, ARTISTIC Já existe no banco\n",
      "Faixa número:89\n",
      "Faixa número:90\n",
      "n:90, ARTISTIC Já existe no banco\n",
      "Faixa número:91\n",
      "Faixa número:92\n",
      "Faixa número:93\n",
      "Faixa número:94\n",
      "Faixa número:95\n",
      "Faixa número:96\n",
      "Faixa número:97\n",
      "Faixa número:98\n",
      "Faixa número:99\n",
      "Faixa número:100\n",
      "Faixa número:101\n",
      "n:101, ARTISTIC Já existe no banco\n",
      "Faixa número:102\n",
      "Faixa número:103\n",
      "Faixa número:104\n",
      "Faixa número:105\n",
      "Faixa número:106\n",
      "Faixa número:107\n",
      "Faixa número:108\n",
      "Faixa número:109\n",
      "Faixa número:110\n",
      "Faixa número:111\n",
      "Faixa número:112\n",
      "n:112, ARTISTIC Já existe no banco\n",
      "Faixa número:113\n",
      "Faixa número:114\n",
      "Faixa número:115\n",
      "Faixa número:116\n",
      "Faixa número:117\n",
      "Faixa número:118\n",
      "n:118, ARTISTIC Já existe no banco\n",
      "Faixa número:119\n",
      "Faixa número:120\n",
      "Faixa número:121\n",
      "Faixa número:122\n",
      "Faixa número:123\n",
      "Faixa número:124\n",
      "Faixa número:125\n",
      "Faixa número:126\n",
      "Faixa número:127\n",
      "Faixa número:128\n",
      "Faixa número:129\n",
      "Faixa número:130\n",
      "Faixa número:131\n",
      "Faixa número:132\n",
      "Faixa número:133\n",
      "Faixa número:134\n",
      "n:134, ARTISTIC Já existe no banco\n",
      "Faixa número:135\n",
      "Faixa número:136\n",
      "Faixa número:137\n",
      "Faixa número:138\n",
      "Faixa número:139\n",
      "Faixa número:140\n",
      "Faixa número:141\n",
      "n:141, ARTISTIC Já existe no banco\n",
      "Faixa número:142\n",
      "Faixa número:143\n",
      "Faixa número:144\n",
      "n:144, ARTISTIC Já existe no banco\n",
      "Faixa número:145\n",
      "Faixa número:146\n",
      "Faixa número:147\n",
      "Faixa número:148\n",
      "Faixa número:149\n",
      "Faixa número:150\n",
      "Faixa número:151\n",
      "Faixa número:152\n",
      "Faixa número:153\n",
      "Faixa número:154\n",
      "Faixa número:155\n",
      "Faixa número:156\n",
      "Faixa número:157\n",
      "Faixa número:158\n",
      "Faixa número:159\n",
      "Faixa número:160\n",
      "Faixa número:161\n",
      "Faixa número:162\n",
      "Faixa número:163\n",
      "Faixa número:164\n",
      "Faixa número:165\n",
      "Faixa número:166\n",
      "Faixa número:167\n",
      "n:167, ARTISTIC Já existe no banco\n",
      "Faixa número:168\n",
      "Faixa número:169\n",
      "Faixa número:170\n",
      "Faixa número:171\n",
      "Faixa número:172\n",
      "Faixa número:173\n",
      "Faixa número:174\n",
      "Faixa número:175\n",
      "n:175, ARTISTIC Já existe no banco\n",
      "Faixa número:176\n",
      "Faixa número:177\n",
      "n:177, ARTISTIC Já existe no banco\n",
      "Faixa número:178\n",
      "n:178, ARTISTIC Já existe no banco\n",
      "Faixa número:179\n",
      "Faixa número:180\n",
      "Faixa número:181\n",
      "Faixa número:182\n",
      "n:182, ARTISTIC Já existe no banco\n",
      "Faixa número:183\n",
      "Faixa número:184\n",
      "Faixa número:185\n",
      "n:185, ARTISTIC Já existe no banco\n",
      "Faixa número:186\n",
      "n:186, ARTISTIC Já existe no banco\n",
      "Faixa número:187\n",
      "n:187, ARTISTIC Já existe no banco\n",
      "Faixa número:188\n",
      "Faixa número:189\n",
      "Faixa número:190\n",
      "Faixa número:191\n",
      "Faixa número:192\n",
      "Faixa número:193\n",
      "Faixa número:194\n",
      "Faixa número:195\n",
      "Faixa número:196\n",
      "n:196, ARTISTIC Já existe no banco\n",
      "Faixa número:197\n",
      "Faixa número:198\n",
      "Faixa número:199\n",
      "Faixa número:200\n",
      "Faixa número:201\n",
      "Faixa número:202\n",
      "Faixa número:203\n",
      "n:203, ARTISTIC Já existe no banco\n",
      "Faixa número:204\n",
      "Faixa número:205\n",
      "Faixa número:206\n",
      "Faixa número:207\n",
      "Faixa número:208\n",
      "Faixa número:209\n",
      "Faixa número:210\n",
      "n:210, ARTISTIC Já existe no banco\n",
      "Faixa número:211\n",
      "n:211, ARTISTIC Já existe no banco\n",
      "Faixa número:212\n",
      "Faixa número:213\n",
      "Faixa número:214\n",
      "Faixa número:215\n",
      "Faixa número:216\n",
      "n:216, ARTISTIC Já existe no banco\n",
      "Faixa número:217\n",
      "Faixa número:218\n",
      "Faixa número:219\n",
      "Faixa número:220\n",
      "Faixa número:221\n",
      "Faixa número:222\n",
      "Faixa número:223\n",
      "Faixa número:224\n",
      "Faixa número:225\n",
      "Faixa número:226\n",
      "Faixa número:227\n",
      "n:227, ARTISTIC Já existe no banco\n",
      "Faixa número:228\n",
      "n:228, ARTISTIC Já existe no banco\n",
      "Faixa número:229\n",
      "Faixa número:230\n",
      "Faixa número:231\n",
      "Faixa número:232\n",
      "Faixa número:233\n"
     ]
    },
    {
     "ename": "KeyboardInterrupt",
     "evalue": "",
     "output_type": "error",
     "traceback": [
      "\u001b[0;31m---------------------------------------------------------------------------\u001b[0m",
      "\u001b[0;31mKeyboardInterrupt\u001b[0m                         Traceback (most recent call last)",
      "Cell \u001b[0;32mIn[13], line 17\u001b[0m\n\u001b[1;32m     15\u001b[0m     \u001b[38;5;66;03m# Coleta de dados do Artista no Spotify\u001b[39;00m\n\u001b[1;32m     16\u001b[0m     main_artist_uri \u001b[38;5;241m=\u001b[39m dados_faixa[\u001b[38;5;124m'\u001b[39m\u001b[38;5;124mmain_artist_URI\u001b[39m\u001b[38;5;124m'\u001b[39m]\n\u001b[0;32m---> 17\u001b[0m     time\u001b[38;5;241m.\u001b[39msleep(\u001b[38;5;241m5\u001b[39m)\n\u001b[1;32m     19\u001b[0m \u001b[38;5;28;01mif\u001b[39;00m db_table_artistcs\u001b[38;5;241m.\u001b[39martist_exists(main_artist_uri, conn\u001b[38;5;241m=\u001b[39mpsycopg2\u001b[38;5;241m.\u001b[39mconnect(\u001b[38;5;241m*\u001b[39m\u001b[38;5;241m*\u001b[39mdb_config)):\n\u001b[1;32m     20\u001b[0m     \u001b[38;5;66;03m# Não fazer nada se o artista já existir\u001b[39;00m\n\u001b[1;32m     21\u001b[0m     \u001b[38;5;28mprint\u001b[39m(\u001b[38;5;124mf\u001b[39m\u001b[38;5;124m'\u001b[39m\u001b[38;5;124mn:\u001b[39m\u001b[38;5;132;01m{\u001b[39;00mn\u001b[38;5;132;01m}\u001b[39;00m\u001b[38;5;124m, ARTISTIC Já existe no banco\u001b[39m\u001b[38;5;124m'\u001b[39m)\n",
      "\u001b[0;31mKeyboardInterrupt\u001b[0m: "
     ]
    }
   ],
   "source": [
    "# n = 1560\n",
    "n = 230\n",
    "for track_uri in uris_list[n:]:\n",
    "    print(f'Faixa número:{n}')\n",
    "    # Primeiro Verifica se o track já existe na tabela, se FALSE, realiza requisição no spotify\n",
    "    if db_table_track.track_exists(track_uri, conn=psycopg2.connect(**db_config)):\n",
    "        print(f'n:{n}, TRACK Já existe no banco')\n",
    "        main_artist_uri = db_table_track.get_main_artist_uri(track_uri, conn=psycopg2.connect(**db_config))\n",
    "\n",
    "    else:\n",
    "        # Realiza requisição da faixa e depois inseri no banco\n",
    "        dados_faixa = spotify_data.obter_dados_faixa(sp = sp, track_uri = track_uri)\n",
    "        db_table_track.insert_track_data(dados_faixa, conn=psycopg2.connect(**db_config))\n",
    "\n",
    "        # Coleta de dados do Artista no Spotify\n",
    "        main_artist_uri = dados_faixa['main_artist_URI']\n",
    "        time.sleep(5)\n",
    "\n",
    "    if db_table_artistcs.artist_exists(main_artist_uri, conn=psycopg2.connect(**db_config)):\n",
    "        # Não fazer nada se o artista já existir\n",
    "        print(f'n:{n}, ARTISTIC Já existe no banco')\n",
    "        pass\n",
    "    else:\n",
    "        # Realiza requisição do artista e depois inseri no banco\n",
    "        dados_artista = spotify_data.obter_dados_artista(sp=sp, artist_uri = main_artist_uri)\n",
    "        db_table_artistcs.insert_artist_data(dados_artista, conn=psycopg2.connect(**db_config))\n",
    "    \n",
    "    n = n + 1  "
   ]
  },
  {
   "cell_type": "code",
   "execution_count": null,
   "metadata": {},
   "outputs": [],
   "source": [
    "end_time = time.time()\n",
    "elapsed_time = end_time - start_time\n",
    "# Converter o tempo decorrido para o formato HH:MM:SS \n",
    "print(f\"Tempo de processamento: {str(timedelta(seconds=int(elapsed_time)))}\")\n"
   ]
  },
  {
   "cell_type": "code",
   "execution_count": null,
   "metadata": {},
   "outputs": [],
   "source": [
    "# import pyspark.sql.functions as F\n",
    "# df = df.withColumn('ano-mes-dia', F.to_date(F.col(\"ts\")))\n",
    "# df = df.withColumn(\"ano-mes\", F.concat_ws(\"-\", F.year(df[\"ts\"]), F.month(df[\"ts\"])))\n",
    "# df = df.withColumn(\"ano_mes_str\", F.date_format(df[\"ts\"], \"yyyy-MM\")) \n",
    "# df = df.withColumn(\"ano_mes_date\", F.to_date(df[\"ano_mes_str\"], \"yyyy-MM\"))\n",
    "# df.show(5, truncate=False)"
   ]
  }
 ],
 "metadata": {
  "kernelspec": {
   "display_name": "minha_venv",
   "language": "python",
   "name": "ambiente_exploratorio"
  },
  "language_info": {
   "codemirror_mode": {
    "name": "ipython",
    "version": 3
   },
   "file_extension": ".py",
   "mimetype": "text/x-python",
   "name": "python",
   "nbconvert_exporter": "python",
   "pygments_lexer": "ipython3",
   "version": "3.11.5"
  }
 },
 "nbformat": 4,
 "nbformat_minor": 2
}
