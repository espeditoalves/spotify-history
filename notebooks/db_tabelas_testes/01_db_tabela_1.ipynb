{
 "cells": [
  {
   "cell_type": "code",
   "execution_count": 1,
   "metadata": {},
   "outputs": [],
   "source": [
    "import sys\n",
    "import os\n",
    "import json\n",
    "import psycopg2\n",
    "from psycopg2 import sql\n",
    "from typing import Dict, Any\n",
    "sys.path.append('/home/jovyan/work')\n",
    "import src.conect_sql as conect_sql"
   ]
  },
  {
   "cell_type": "code",
   "execution_count": 2,
   "metadata": {},
   "outputs": [],
   "source": [
    "# Diretório onde estão localizados os arquivos JSON\n",
    "json_dir = '/home/jovyan/work/data/Spotify_history/'"
   ]
  },
  {
   "cell_type": "code",
   "execution_count": 3,
   "metadata": {},
   "outputs": [],
   "source": [
    "def insert_data(\n",
    "        conn: psycopg2.extensions.connection, \n",
    "        data: Dict[str, Any],\n",
    "        your_table_name: str) -> None:\n",
    "    \"\"\"\n",
    "    Insere dados no banco de dados PostgreSQL.\n",
    "\n",
    "    Args:\n",
    "        conn (psycopg2.extensions.connection): Objeto de conexão com o banco de dados.\n",
    "        data (Dict[str, Any]): Dicionário contendo os dados a serem inseridos.\n",
    "\n",
    "    Retorna:\n",
    "        None\n",
    "    \"\"\"\n",
    "    with conn.cursor() as cur:\n",
    "        insert_query = sql.SQL(f\"\"\"\n",
    "            INSERT INTO {your_table_name} (ts, platform, ms_played, conn_country, ip_addr, \n",
    "                                         master_metadata_track_name, master_metadata_album_artist_name, \n",
    "                                         master_metadata_album_album_name, spotify_track_uri, episode_name, \n",
    "                                         episode_show_name, spotify_episode_uri, reason_start, reason_end, \n",
    "                                         shuffle, skipped, offline, offline_timestamp, incognito_mode) \n",
    "            VALUES (%s, %s, %s, %s, %s, %s, %s, %s, %s, %s, %s, %s, %s, %s, %s, %s, %s, to_timestamp(%s), %s)\n",
    "        \"\"\")\n",
    "        \n",
    "        cur.execute(insert_query, (\n",
    "            data['ts'], data['platform'], data['ms_played'], data['conn_country'], data['ip_addr'], \n",
    "            data['master_metadata_track_name'], data['master_metadata_album_artist_name'], \n",
    "            data['master_metadata_album_album_name'], data['spotify_track_uri'], data['episode_name'], \n",
    "            data['episode_show_name'], data['spotify_episode_uri'], data['reason_start'], data['reason_end'], \n",
    "            data['shuffle'], data['skipped'], data['offline'], data['offline_timestamp'], data['incognito_mode']\n",
    "        ))\n",
    "        \n",
    "        conn.commit()\n",
    "\n",
    "def process_json_files() -> None:\n",
    "    \"\"\"\n",
    "    Processa arquivos JSON e insere os dados no banco de dados PostgreSQL.\n",
    "\n",
    "    Retorna:\n",
    "        None\n",
    "    \"\"\"\n",
    "    conn = psycopg2.connect(**conect_sql.db_config)\n",
    "    \n",
    "    try:\n",
    "        for filename in os.listdir(json_dir):\n",
    "            if filename.endswith('.json'):\n",
    "                print(f'Inserindo dados do arquivo:{filename}')\n",
    "                with open(os.path.join(json_dir, filename), 'r') as file:\n",
    "                    json_data = json.load(file)\n",
    "                    \n",
    "                    # Assumindo que json_data é uma lista de dicionários\n",
    "                    for dicionario in json_data:\n",
    "                        insert_data(conn = conn, data = dicionario, your_table_name = 'spotify_history')\n",
    "                print(f'Dados de {filename} inseridos')\n",
    "                print('=====')\n",
    "    finally:\n",
    "        conn.close()\n"
   ]
  },
  {
   "cell_type": "code",
   "execution_count": 4,
   "metadata": {},
   "outputs": [
    {
     "name": "stdout",
     "output_type": "stream",
     "text": [
      "Inserindo dados do arquivo:Streaming_History_Audio_2019-2020_1.json\n",
      "Dados de Streaming_History_Audio_2019-2020_1.json inseridos\n",
      "=====\n",
      "Inserindo dados do arquivo:Streaming_History_Audio_2019_0.json\n",
      "Dados de Streaming_History_Audio_2019_0.json inseridos\n",
      "=====\n",
      "Inserindo dados do arquivo:Streaming_History_Audio_2020-2021_2.json\n",
      "Dados de Streaming_History_Audio_2020-2021_2.json inseridos\n",
      "=====\n",
      "Inserindo dados do arquivo:Streaming_History_Audio_2021-2024_3.json\n",
      "Dados de Streaming_History_Audio_2021-2024_3.json inseridos\n",
      "=====\n",
      "Inserindo dados do arquivo:Streaming_History_Audio_2024_4.json\n",
      "Dados de Streaming_History_Audio_2024_4.json inseridos\n",
      "=====\n",
      "Inserindo dados do arquivo:Streaming_History_Video_2020-2024.json\n",
      "Dados de Streaming_History_Video_2020-2024.json inseridos\n",
      "=====\n"
     ]
    }
   ],
   "source": [
    "process_json_files()"
   ]
  },
  {
   "cell_type": "code",
   "execution_count": 5,
   "metadata": {},
   "outputs": [],
   "source": [
    "\n",
    "# if __name__ == '__main__':\n",
    "#     process_json_files()\n"
   ]
  }
 ],
 "metadata": {
  "kernelspec": {
   "display_name": "venv_spotify",
   "language": "python",
   "name": "spotify-history-ambiente_spotify-1"
  }
 },
 "nbformat": 4,
 "nbformat_minor": 2
}
