{
 "cells": [
  {
   "cell_type": "code",
   "execution_count": 1,
   "metadata": {},
   "outputs": [],
   "source": [
    "import os\n",
    "import sys\n",
    "from dotenv import load_dotenv \n",
    "import spotipy \n",
    "from spotipy.oauth2 import SpotifyClientCredentials\n",
    "import src.dados_spotify as dados_sp\n",
    "\n",
    "sys.path.append('/home/jovyan/work')\n",
    "# Carregar variáveis de ambiente do arquivo .env na pasta config \n",
    "load_dotenv(os.path.join('config', '.env'))\n",
    "%load_ext autoreload\n",
    "%autoreload 2"
   ]
  },
  {
   "cell_type": "markdown",
   "metadata": {},
   "source": [
    "## Cria e Inseri dados:\n",
    "    - Tabela tracks\n",
    "    - Tabela artistics"
   ]
  },
  {
   "cell_type": "code",
   "execution_count": 8,
   "metadata": {},
   "outputs": [],
   "source": [
    "import src.db_table_track as db_table_track\n",
    "\n",
    "db_table_track.create_tracks_table()\n",
    "dados = {\n",
    "    \"track_URI\": \"spo:teste:teste\", \n",
    "    \"track_name\": \"teste\", \n",
    "    \"duration_ms\": 10000, \n",
    "    \"popularity\": 00, \n",
    "    \"artists\": [{'name': 'Artista 1', 'uri': 'spotify:artist:1'}, {'name': 'Artista 2', 'uri': 'spotify:artist:2'}], \n",
    "    \"main_artist\": \"Artista 1\", \n",
    "    \"main_artist_URI\": \"spotify:artist:1\",\n",
    "    \"album_images\": [{'url': 'image1.jpg'}, {'url': 'image2.jpg'}]\n",
    "}\n",
    "db_table_track.insert_track_data(dados)\n"
   ]
  },
  {
   "cell_type": "code",
   "execution_count": 9,
   "metadata": {},
   "outputs": [],
   "source": [
    "import src.db_table_artistcs as db_table_artistcs\n",
    "\n",
    "db_table_artistcs.create_artists_table()\n",
    "dados_artista = {\n",
    "    \"artist_URI\": \"teste:artist:teste\",\n",
    "    \"artist_name\": \"Nome do Artista\",\n",
    "    \"followers\": 50000,\n",
    "    \"popularity\": 00,\n",
    "    \"genres\": [\"genre1\", \"genre2\"],\n",
    "    \"artist_images\": [{'url': 'image1.jpg'}, {'url': 'image2.jpg'}]\n",
    "}\n",
    "db_table_artistcs.insert_artist_data(dados_artista)"
   ]
  }
 ],
 "metadata": {
  "kernelspec": {
   "display_name": "venv_spotify",
   "language": "python",
   "name": "spotify-history-ambiente_spotify-1"
  }
 },
 "nbformat": 4,
 "nbformat_minor": 2
}
