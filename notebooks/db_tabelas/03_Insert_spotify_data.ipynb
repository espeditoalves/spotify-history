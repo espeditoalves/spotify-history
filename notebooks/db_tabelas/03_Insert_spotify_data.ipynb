{
 "cells": [
  {
   "cell_type": "code",
   "execution_count": 1,
   "metadata": {},
   "outputs": [],
   "source": [
    "%load_ext autoreload\n",
    "%autoreload 2\n",
    "\n",
    "# Importar bibliotecas padrão\n",
    "import time\n",
    "from datetime import timedelta\n",
    "import os\n",
    "\n",
    "# Carregar variáveis de ambiente\n",
    "from dotenv import load_dotenv\n",
    "load_dotenv(os.path.join('config', '.env'))\n",
    "\n",
    "# Importar bibliotecas para PostgreSQL\n",
    "import psycopg2\n",
    "\n",
    "# Importar bibliotecas para Spotify API\n",
    "import spotipy\n",
    "from spotipy.oauth2 import SpotifyClientCredentials\n",
    "import src.spotify_data as spotify_data\n",
    "\n",
    "# Importar bibliotecas para PySpark\n",
    "from pyspark.sql import SparkSession\n",
    "\n",
    "\n",
    "jana = True\n",
    "start_time_geral = time.time()"
   ]
  },
  {
   "cell_type": "markdown",
   "metadata": {},
   "source": [
    "## Configuração de conexão Pyspark"
   ]
  },
  {
   "cell_type": "code",
   "execution_count": 2,
   "metadata": {},
   "outputs": [],
   "source": [
    "# Configurar SparkSession\n",
    "spark = SparkSession.builder \\\n",
    "    .appName(\"PostgreSQL to Spark\") \\\n",
    "    .config(\"spark.jars\", \"/caminho/para/postgresql-<versao>.jar\") \\\n",
    "    .getOrCreate()\n"
   ]
  },
  {
   "cell_type": "code",
   "execution_count": 3,
   "metadata": {},
   "outputs": [],
   "source": [
    "if jana:\n",
    "    db_config = {\n",
    "        'host': os.getenv('DB_HOST'),\n",
    "        'port': os.getenv('DB_PORT'),\n",
    "        'dbname': os.getenv('DB_NAME_JANA'),\n",
    "        'user': os.getenv('DB_USER'),\n",
    "        'password': os.getenv('DB_PASSWORD')\n",
    "    }\n",
    "else:\n",
    "    db_config = {\n",
    "        'host': os.getenv('DB_HOST'),\n",
    "        'port': os.getenv('DB_PORT'),\n",
    "        'dbname': os.getenv('DB_NAME'),\n",
    "        'user': os.getenv('DB_USER'),\n",
    "        'password': os.getenv('DB_PASSWORD')\n",
    "    }\n",
    "\n",
    "# URL de conexão JDBC\n",
    "jdbc_url = f\"jdbc:postgresql://{db_config['host']}:{db_config['port']}/{db_config['dbname']}\"\n",
    "\n",
    "# Propriedades de conexão\n",
    "connection_properties = {\n",
    "    \"user\": db_config['user'],\n",
    "    \"password\": db_config['password'],\n",
    "    \"driver\": \"org.postgresql.Driver\"\n",
    "}"
   ]
  },
  {
   "cell_type": "markdown",
   "metadata": {},
   "source": [
    "## Configuração de conexão ao Spotify"
   ]
  },
  {
   "cell_type": "code",
   "execution_count": 4,
   "metadata": {},
   "outputs": [],
   "source": [
    "# Carregar variáveis de ambiente do arquivo .env na pasta config \n",
    "if jana:\n",
    "    client_id = os.getenv('CLIENT_ID_JANA') \n",
    "    client_secret = os.getenv('CLIENT_SECRET_JANA')\n",
    "else:\n",
    "    client_id = os.getenv('CLIENT_ID') \n",
    "    client_secret = os.getenv('CLIENT_SECRET')\n",
    "\n",
    "# Configuração da autenticação\n",
    "client_credentials_manager = SpotifyClientCredentials(client_id=client_id, client_secret=client_secret)\n",
    "sp = spotipy.Spotify(client_credentials_manager=client_credentials_manager)"
   ]
  },
  {
   "cell_type": "markdown",
   "metadata": {},
   "source": [
    "## Coleta de dados: Banco de dados"
   ]
  },
  {
   "cell_type": "code",
   "execution_count": 5,
   "metadata": {},
   "outputs": [],
   "source": [
    "start_time = time.time()"
   ]
  },
  {
   "cell_type": "code",
   "execution_count": 6,
   "metadata": {},
   "outputs": [
    {
     "name": "stdout",
     "output_type": "stream",
     "text": [
      "+-------------------+--------------------+---------+------------+--------------+--------------------------+---------------------------------+--------------------------------+--------------------+------------+-----------------+-------------------+------------+----------+-------+-------+-------+-----------------+--------------+\n",
      "|                 ts|            platform|ms_played|conn_country|       ip_addr|master_metadata_track_name|master_metadata_album_artist_name|master_metadata_album_album_name|   spotify_track_uri|episode_name|episode_show_name|spotify_episode_uri|reason_start|reason_end|shuffle|skipped|offline|offline_timestamp|incognito_mode|\n",
      "+-------------------+--------------------+---------+------------+--------------+--------------------------+---------------------------------+--------------------------------+--------------------+------------+-----------------+-------------------+------------+----------+-------+-------+-------+-----------------+--------------+\n",
      "|2021-09-02 12:02:02|Android OS 10 API...|    77080|          BR|201.139.217.52|              40 Day Dream|             Edward Sharpe & T...|                   Up from Below|spotify:track:12W...|        null|             null|               null|    clickrow|    logout|  false|  false|  false|             null|         false|\n",
      "|2021-09-02 12:05:45|Android OS 10 API...|   200993|          BR|201.139.217.52|      Lutar Pelo Que E Meu|                Charlie Brown Jr.|               Imunidade Musical|spotify:track:6LA...|        null|             null|               null|    clickrow| trackdone|  false|  false|  false|             null|         false|\n",
      "|2021-09-02 12:08:44|Android OS 10 API...|   179200|          BR|201.139.217.52|                  É Quente|                Charlie Brown Jr.|               Imunidade Musical|spotify:track:0ZP...|        null|             null|               null|   trackdone| trackdone|  false|  false|  false|             null|         false|\n",
      "|2021-09-02 12:12:51|Android OS 10 API...|   247711|          BR|201.139.217.52|      Onde Não Existe A...|                Charlie Brown Jr.|               Imunidade Musical|spotify:track:74n...|        null|             null|               null|   trackdone| trackdone|  false|  false|  false|             null|         false|\n",
      "+-------------------+--------------------+---------+------------+--------------+--------------------------+---------------------------------+--------------------------------+--------------------+------------+-----------------+-------------------+------------+----------+-------+-------+-------+-----------------+--------------+\n",
      "only showing top 4 rows\n",
      "\n"
     ]
    }
   ],
   "source": [
    "df = spark.read.jdbc(url=jdbc_url, table=\"all_tracks_registry\", properties=connection_properties)\n",
    "df.show(4)\n"
   ]
  },
  {
   "cell_type": "code",
   "execution_count": 7,
   "metadata": {},
   "outputs": [
    {
     "data": {
      "text/plain": [
       "37185"
      ]
     },
     "execution_count": 7,
     "metadata": {},
     "output_type": "execute_result"
    }
   ],
   "source": [
    "df.count()"
   ]
  },
  {
   "cell_type": "code",
   "execution_count": 8,
   "metadata": {},
   "outputs": [
    {
     "name": "stdout",
     "output_type": "stream",
     "text": [
      "root\n",
      " |-- ts: timestamp (nullable = true)\n",
      " |-- platform: string (nullable = true)\n",
      " |-- ms_played: integer (nullable = true)\n",
      " |-- conn_country: string (nullable = true)\n",
      " |-- ip_addr: string (nullable = true)\n",
      " |-- master_metadata_track_name: string (nullable = true)\n",
      " |-- master_metadata_album_artist_name: string (nullable = true)\n",
      " |-- master_metadata_album_album_name: string (nullable = true)\n",
      " |-- spotify_track_uri: string (nullable = true)\n",
      " |-- episode_name: string (nullable = true)\n",
      " |-- episode_show_name: string (nullable = true)\n",
      " |-- spotify_episode_uri: string (nullable = true)\n",
      " |-- reason_start: string (nullable = true)\n",
      " |-- reason_end: string (nullable = true)\n",
      " |-- shuffle: boolean (nullable = true)\n",
      " |-- skipped: boolean (nullable = true)\n",
      " |-- offline: boolean (nullable = true)\n",
      " |-- offline_timestamp: timestamp (nullable = true)\n",
      " |-- incognito_mode: boolean (nullable = true)\n",
      "\n"
     ]
    }
   ],
   "source": [
    "df.printSchema()"
   ]
  },
  {
   "cell_type": "code",
   "execution_count": 9,
   "metadata": {},
   "outputs": [
    {
     "name": "stdout",
     "output_type": "stream",
     "text": [
      "Tempo de processamento: 0:00:11\n"
     ]
    }
   ],
   "source": [
    "end_time = time.time()\n",
    "elapsed_time = end_time - start_time\n",
    "# Converter o tempo decorrido para o formato HH:MM:SS \n",
    "print(f\"Tempo de processamento: {str(timedelta(seconds=int(elapsed_time)))}\")"
   ]
  },
  {
   "cell_type": "markdown",
   "metadata": {},
   "source": [
    "## Coleta dados do Spotify e cria novos bancos"
   ]
  },
  {
   "cell_type": "code",
   "execution_count": 10,
   "metadata": {},
   "outputs": [],
   "source": [
    "start_time = time.time()"
   ]
  },
  {
   "cell_type": "code",
   "execution_count": 11,
   "metadata": {},
   "outputs": [],
   "source": [
    "# Funções de banco de dados Tracks e Artistics\n",
    "import src.db_table_track as db_table_track\n",
    "import src.db_table_artistcs as db_table_artistcs"
   ]
  },
  {
   "cell_type": "code",
   "execution_count": 12,
   "metadata": {},
   "outputs": [
    {
     "name": "stdout",
     "output_type": "stream",
     "text": [
      "Quantidade de faixas: 6794\n"
     ]
    }
   ],
   "source": [
    "# Selecionar e coletar os dados distintos \n",
    "distinct_uris = df.select('spotify_track_uri').distinct().collect() \n",
    "# Transformar em lista de valores simples \n",
    "uris_list = [row['spotify_track_uri'] for row in distinct_uris]\n",
    "print(f'Quantidade de faixas: {len(uris_list)}')"
   ]
  },
  {
   "cell_type": "code",
   "execution_count": 13,
   "metadata": {},
   "outputs": [
    {
     "name": "stdout",
     "output_type": "stream",
     "text": [
      "spotify:track:3NBeihcw8SR7rXI0Amd6LH\n"
     ]
    }
   ],
   "source": [
    "print(uris_list[0])"
   ]
  },
  {
   "cell_type": "code",
   "execution_count": null,
   "metadata": {},
   "outputs": [
    {
     "name": "stdout",
     "output_type": "stream",
     "text": [
      "Faixa número:0\n",
      "n:0, TRACK Já existe no banco\n",
      "n:0, ARTISTIC Já existe no banco\n",
      "Faixa número:1\n",
      "n:1, TRACK Já existe no banco\n",
      "n:1, ARTISTIC Já existe no banco\n",
      "Faixa número:2\n",
      "n:2, TRACK Já existe no banco\n",
      "n:2, ARTISTIC Já existe no banco\n",
      "Faixa número:3\n",
      "n:3, TRACK Já existe no banco\n",
      "n:3, ARTISTIC Já existe no banco\n",
      "Faixa número:4\n",
      "n:4, TRACK Já existe no banco\n",
      "n:4, ARTISTIC Já existe no banco\n",
      "Faixa número:5\n",
      "Faixa número:6\n",
      "Faixa número:7\n",
      "Faixa número:8\n",
      "Faixa número:9\n",
      "Faixa número:10\n",
      "Faixa número:11\n",
      "Faixa número:12\n",
      "Faixa número:13\n",
      "Faixa número:14\n",
      "Faixa número:15\n",
      "Faixa número:16\n",
      "Faixa número:17\n",
      "Faixa número:18\n",
      "Faixa número:19\n",
      "Faixa número:20\n",
      "Faixa número:21\n",
      "Faixa número:22\n",
      "Faixa número:23\n",
      "Faixa número:24\n",
      "Faixa número:25\n",
      "Faixa número:26\n",
      "Faixa número:27\n",
      "Faixa número:28\n",
      "Faixa número:29\n",
      "Faixa número:30\n",
      "Faixa número:31\n",
      "Faixa número:32\n",
      "Faixa número:33\n",
      "Faixa número:34\n",
      "Faixa número:35\n",
      "Faixa número:36\n",
      "Faixa número:37\n",
      "Faixa número:38\n",
      "Faixa número:39\n",
      "Faixa número:40\n",
      "Faixa número:41\n",
      "Faixa número:42\n",
      "Faixa número:43\n",
      "Faixa número:44\n",
      "Faixa número:45\n",
      "Faixa número:46\n",
      "Faixa número:47\n",
      "Faixa número:48\n",
      "n:48, ARTISTIC Já existe no banco\n",
      "Faixa número:49\n",
      "Faixa número:50\n",
      "Faixa número:51\n",
      "Faixa número:52\n",
      "Faixa número:53\n",
      "Faixa número:54\n",
      "Faixa número:55\n",
      "Faixa número:56\n",
      "Faixa número:57\n",
      "n:57, ARTISTIC Já existe no banco\n",
      "Faixa número:58\n",
      "Faixa número:59\n",
      "Faixa número:60\n",
      "Faixa número:61\n",
      "Faixa número:62\n",
      "Faixa número:63\n",
      "Faixa número:64\n",
      "Faixa número:65\n",
      "Faixa número:66\n",
      "Faixa número:67\n",
      "Faixa número:68\n",
      "Faixa número:69\n",
      "Faixa número:70\n",
      "Faixa número:71\n",
      "Faixa número:72\n",
      "Faixa número:73\n",
      "Faixa número:74\n",
      "Faixa número:75\n",
      "Faixa número:76\n",
      "Faixa número:77\n",
      "Faixa número:78\n",
      "Faixa número:79\n",
      "Faixa número:80\n",
      "Faixa número:81\n",
      "Faixa número:82\n",
      "Faixa número:83\n",
      "Faixa número:84\n",
      "Faixa número:85\n",
      "Faixa número:86\n",
      "Faixa número:87\n",
      "Faixa número:88\n",
      "Faixa número:89\n",
      "Faixa número:90\n",
      "Faixa número:91\n",
      "Faixa número:92\n",
      "Faixa número:93\n",
      "Faixa número:94\n",
      "Faixa número:95\n",
      "Faixa número:96\n",
      "Faixa número:97\n",
      "n:97, ARTISTIC Já existe no banco\n",
      "Faixa número:98\n",
      "Faixa número:99\n",
      "Faixa número:100\n",
      "n:100, ARTISTIC Já existe no banco\n",
      "Faixa número:101\n",
      "Faixa número:102\n",
      "n:102, ARTISTIC Já existe no banco\n",
      "Faixa número:103\n",
      "Faixa número:104\n",
      "Faixa número:105\n",
      "Faixa número:106\n",
      "Faixa número:107\n",
      "Faixa número:108\n",
      "Faixa número:109\n",
      "n:109, ARTISTIC Já existe no banco\n",
      "Faixa número:110\n",
      "Faixa número:111\n",
      "Faixa número:112\n",
      "Faixa número:113\n",
      "n:113, ARTISTIC Já existe no banco\n",
      "Faixa número:114\n",
      "Faixa número:115\n",
      "Faixa número:116\n",
      "n:116, ARTISTIC Já existe no banco\n",
      "Faixa número:117\n",
      "Faixa número:118\n",
      "Faixa número:119\n",
      "Faixa número:120\n",
      "Faixa número:121\n",
      "Faixa número:122\n",
      "Faixa número:123\n",
      "Faixa número:124\n",
      "Faixa número:125\n",
      "Faixa número:126\n",
      "n:126, ARTISTIC Já existe no banco\n",
      "Faixa número:127\n",
      "Faixa número:128\n",
      "Faixa número:129\n",
      "Faixa número:130\n",
      "n:130, ARTISTIC Já existe no banco\n",
      "Faixa número:131\n",
      "Faixa número:132\n",
      "n:132, ARTISTIC Já existe no banco\n",
      "Faixa número:133\n",
      "Faixa número:134\n",
      "Faixa número:135\n",
      "Faixa número:136\n",
      "n:136, ARTISTIC Já existe no banco\n",
      "Faixa número:137\n",
      "Faixa número:138\n",
      "Faixa número:139\n",
      "Faixa número:140\n",
      "Faixa número:141\n",
      "Faixa número:142\n",
      "Faixa número:143\n",
      "n:143, ARTISTIC Já existe no banco\n",
      "Faixa número:144\n",
      "Faixa número:145\n",
      "Faixa número:146\n",
      "Faixa número:147\n",
      "n:147, ARTISTIC Já existe no banco\n",
      "Faixa número:148\n",
      "Faixa número:149\n",
      "n:149, ARTISTIC Já existe no banco\n",
      "Faixa número:150\n",
      "Faixa número:151\n",
      "Faixa número:152\n",
      "Faixa número:153\n",
      "Faixa número:154\n",
      "Faixa número:155\n",
      "Faixa número:156\n",
      "n:156, ARTISTIC Já existe no banco\n",
      "Faixa número:157\n",
      "Faixa número:158\n",
      "Faixa número:159\n",
      "Faixa número:160\n",
      "Faixa número:161\n",
      "Faixa número:162\n",
      "Faixa número:163\n",
      "Faixa número:164\n",
      "Faixa número:165\n",
      "n:165, ARTISTIC Já existe no banco\n",
      "Faixa número:166\n",
      "n:166, ARTISTIC Já existe no banco\n",
      "Faixa número:167\n",
      "Faixa número:168\n",
      "Faixa número:169\n",
      "n:169, ARTISTIC Já existe no banco\n",
      "Faixa número:170\n",
      "Faixa número:171\n",
      "Faixa número:172\n",
      "Faixa número:173\n",
      "Faixa número:174\n",
      "Faixa número:175\n",
      "Faixa número:176\n",
      "Faixa número:177\n",
      "Faixa número:178\n",
      "Faixa número:179\n",
      "n:179, ARTISTIC Já existe no banco\n",
      "Faixa número:180\n",
      "Faixa número:181\n",
      "Faixa número:182\n",
      "Faixa número:183\n",
      "Faixa número:184\n",
      "Faixa número:185\n",
      "Faixa número:186\n",
      "Faixa número:187\n",
      "Faixa número:188\n",
      "Faixa número:189\n",
      "Faixa número:190\n"
     ]
    }
   ],
   "source": [
    "n = 0\n",
    "for track_uri in uris_list:\n",
    "    print(f'Faixa número:{n}')\n",
    "    # Primeiro Verifica se o track já existe na tabela, se FALSE, realiza requisição no spotify\n",
    "    if db_table_track.track_exists(track_uri, conn=psycopg2.connect(**db_config)):\n",
    "        print(f'n:{n}, TRACK Já existe no banco')\n",
    "        main_artist_uri = db_table_track.get_main_artist_uri(track_uri, conn=psycopg2.connect(**db_config))\n",
    "\n",
    "    else:\n",
    "        # Realiza requisição da faixa e depois inseri no banco\n",
    "        dados_faixa = spotify_data.obter_dados_faixa(sp = sp, track_uri = track_uri)\n",
    "        db_table_track.insert_track_data(dados_faixa, conn=psycopg2.connect(**db_config))\n",
    "\n",
    "        # Coleta de dados do Artista no Spotify\n",
    "        main_artist_uri = dados_faixa['main_artist_URI']\n",
    "\n",
    "    if db_table_artistcs.artist_exists(main_artist_uri, conn=psycopg2.connect(**db_config)):\n",
    "        # Não fazer nada se o artista já existir\n",
    "        print(f'n:{n}, ARTISTIC Já existe no banco')\n",
    "        pass\n",
    "    else:\n",
    "        # Realiza requisição do artista e depois inseri no banco\n",
    "        dados_artista = spotify_data.obter_dados_artista(sp=sp, artist_uri = main_artist_uri)\n",
    "        db_table_artistcs.insert_artist_data(dados_artista, conn=psycopg2.connect(**db_config))\n",
    "    time.sleep(5)\n",
    "    n = n + 1  "
   ]
  },
  {
   "cell_type": "code",
   "execution_count": null,
   "metadata": {},
   "outputs": [],
   "source": [
    "end_time = time.time()\n",
    "elapsed_time = end_time - start_time\n",
    "# Converter o tempo decorrido para o formato HH:MM:SS \n",
    "print(f\"Tempo de processamento: {str(timedelta(seconds=int(elapsed_time)))}\")\n"
   ]
  },
  {
   "cell_type": "code",
   "execution_count": null,
   "metadata": {},
   "outputs": [],
   "source": [
    "# import pyspark.sql.functions as F\n",
    "# df = df.withColumn('ano-mes-dia', F.to_date(F.col(\"ts\")))\n",
    "# df = df.withColumn(\"ano-mes\", F.concat_ws(\"-\", F.year(df[\"ts\"]), F.month(df[\"ts\"])))\n",
    "# df = df.withColumn(\"ano_mes_str\", F.date_format(df[\"ts\"], \"yyyy-MM\")) \n",
    "# df = df.withColumn(\"ano_mes_date\", F.to_date(df[\"ano_mes_str\"], \"yyyy-MM\"))\n",
    "# df.show(5, truncate=False)"
   ]
  }
 ],
 "metadata": {
  "kernelspec": {
   "display_name": "venv_spotify",
   "language": "python",
   "name": "spotify-history-ambiente_spotify-1"
  },
  "language_info": {
   "codemirror_mode": {
    "name": "ipython",
    "version": 3
   },
   "file_extension": ".py",
   "mimetype": "text/x-python",
   "name": "python",
   "nbconvert_exporter": "python",
   "pygments_lexer": "ipython3",
   "version": "3.11.5"
  }
 },
 "nbformat": 4,
 "nbformat_minor": 2
}
