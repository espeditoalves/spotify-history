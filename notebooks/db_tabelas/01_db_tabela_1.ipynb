{
 "cells": [
  {
   "cell_type": "code",
   "execution_count": 1,
   "metadata": {},
   "outputs": [],
   "source": [
    "import time\n",
    "from datetime import timedelta\n",
    "\n",
    "import sys\n",
    "import os\n",
    "import json\n",
    "import psycopg2\n",
    "from dotenv import load_dotenv \n",
    "sys.path.append('/home/jovyan/work')\n",
    "import src.db_table_spotify_history as tbh\n",
    "# Carregar variáveis de ambiente do arquivo .env\n",
    "load_dotenv(os.path.join('config', '.env'))\n",
    "# Configuração da conexão com o banco de dados\n",
    "user_name = 'User_1'\n",
    "user = True if user_name == 'User_1'  else False\n",
    "\n",
    "if user:\n",
    "    db_config = {\n",
    "        'host': os.getenv('DB_HOST'),\n",
    "        'port': os.getenv('DB_PORT'),\n",
    "        'dbname': os.getenv('DB_NAME'),\n",
    "        'user': os.getenv('DB_USER'),\n",
    "        'password': os.getenv('DB_PASSWORD')\n",
    "    }\n",
    "    # Diretório onde estão localizados os arquivos JSON\n",
    "    json_dir = '/home/jovyan/work/data/Spotify_history/'\n",
    "else:\n",
    "    db_config = {\n",
    "        'host': os.getenv('DB_HOST'),\n",
    "        'port': os.getenv('DB_PORT'),\n",
    "        'dbname': os.getenv('DB_NAME_2'),\n",
    "        'user': os.getenv('DB_USER'),\n",
    "        'password': os.getenv('DB_PASSWORD')\n",
    "        }\n",
    "    # Diretório onde estão localizados os arquivos JSON\n",
    "    json_dir = '/home/jovyan/work/data/jana_spotify_data'\n",
    "\n",
    "def connect_to_db() -> psycopg2.extensions.connection:\n",
    "    \"\"\"\n",
    "    Função para conectar ao banco de dados PostgreSQL.\n",
    "\n",
    "    Retorna:\n",
    "        conn (psycopg2.extensions.connection): Objeto de conexão com o banco de dados.\n",
    "    \"\"\"\n",
    "    try:\n",
    "        conn = psycopg2.connect(**db_config)\n",
    "        print(\"Conexão com o banco de dados estabelecida com sucesso!\")\n",
    "        return conn\n",
    "    except psycopg2.Error as e:\n",
    "        print(f\"Erro ao conectar ao banco de dados: {e}\")\n",
    "        return None"
   ]
  },
  {
   "cell_type": "code",
   "execution_count": null,
   "metadata": {},
   "outputs": [],
   "source": []
  },
  {
   "cell_type": "code",
   "execution_count": 2,
   "metadata": {},
   "outputs": [],
   "source": []
  },
  {
   "cell_type": "code",
   "execution_count": 2,
   "metadata": {},
   "outputs": [],
   "source": [
    "def process_json_files() -> None:\n",
    "    \"\"\"\n",
    "    Processa arquivos JSON e insere os dados no banco de dados PostgreSQL.\n",
    "\n",
    "    Retorna:\n",
    "        None\n",
    "    \"\"\"\n",
    "    conn = psycopg2.connect(**db_config)\n",
    "    \n",
    "    try:\n",
    "        for filename in os.listdir(json_dir):\n",
    "            if filename.endswith('.json'):\n",
    "                print(f'Inserindo dados do arquivo:{filename}')\n",
    "                with open(os.path.join(json_dir, filename), 'r') as file:\n",
    "                    json_data = json.load(file)\n",
    "                    \n",
    "                    # Assumindo que json_data é uma lista de dicionários\n",
    "                    for dicionario in json_data:\n",
    "                        tbh.insert_data(conn = conn, data = dicionario, your_table_name = 'all_tracks_registry')\n",
    "                print(f'Dados de {filename} inseridos')\n",
    "                print('=====')\n",
    "    finally:\n",
    "        conn.close()\n"
   ]
  },
  {
   "cell_type": "code",
   "execution_count": 3,
   "metadata": {},
   "outputs": [],
   "source": [
    "start_time = time.time()"
   ]
  },
  {
   "cell_type": "code",
   "execution_count": 4,
   "metadata": {},
   "outputs": [
    {
     "name": "stdout",
     "output_type": "stream",
     "text": [
      "Conexão com o banco de dados estabelecida com sucesso!\n",
      "Tabela criada com sucesso!\n"
     ]
    }
   ],
   "source": [
    "tbh.create_table_all_tracks_registry(conn=connect_to_db())"
   ]
  },
  {
   "cell_type": "code",
   "execution_count": 5,
   "metadata": {},
   "outputs": [
    {
     "name": "stdout",
     "output_type": "stream",
     "text": [
      "Inserindo dados do arquivo:Streaming_History_Audio_2021-2023_0.json\n",
      "Dados de Streaming_History_Audio_2021-2023_0.json inseridos\n",
      "=====\n",
      "Inserindo dados do arquivo:Streaming_History_Audio_2023-2024_1.json\n",
      "Dados de Streaming_History_Audio_2023-2024_1.json inseridos\n",
      "=====\n",
      "Inserindo dados do arquivo:Streaming_History_Video_2023-2024.json\n",
      "Dados de Streaming_History_Video_2023-2024.json inseridos\n",
      "=====\n"
     ]
    }
   ],
   "source": [
    "process_json_files()"
   ]
  },
  {
   "cell_type": "code",
   "execution_count": 6,
   "metadata": {},
   "outputs": [
    {
     "name": "stdout",
     "output_type": "stream",
     "text": [
      "Tempo de processamento: 0:02:43\n"
     ]
    }
   ],
   "source": [
    "end_time = time.time()\n",
    "elapsed_time = end_time - start_time\n",
    "# Converter o tempo decorrido para o formato HH:MM:SS \n",
    "print(f\"Tempo de processamento: {str(timedelta(seconds=int(elapsed_time)))}\")"
   ]
  }
 ],
 "metadata": {
  "kernelspec": {
   "display_name": "venv_spotify",
   "language": "python",
   "name": "spotify-history-ambiente_spotify-1"
  }
 },
 "nbformat": 4,
 "nbformat_minor": 2
}
