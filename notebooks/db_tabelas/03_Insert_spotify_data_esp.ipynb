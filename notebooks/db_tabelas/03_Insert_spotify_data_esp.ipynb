{
 "cells": [
  {
   "cell_type": "code",
   "execution_count": 1,
   "metadata": {},
   "outputs": [],
   "source": [
    "%load_ext autoreload\n",
    "%autoreload 2\n",
    "\n",
    "# Importar bibliotecas padrão\n",
    "import time\n",
    "from datetime import timedelta\n",
    "import os\n",
    "\n",
    "# Carregar variáveis de ambiente\n",
    "from dotenv import load_dotenv\n",
    "load_dotenv(os.path.join('config', '.env'))\n",
    "\n",
    "# Importar bibliotecas para PostgreSQL\n",
    "import psycopg2\n",
    "\n",
    "# Importar bibliotecas para Spotify API\n",
    "import spotipy\n",
    "from spotipy.oauth2 import SpotifyClientCredentials\n",
    "import src.spotify_data as spotify_data\n",
    "\n",
    "# Importar bibliotecas para PySpark\n",
    "from pyspark.sql import SparkSession\n",
    "\n",
    "\n",
    "jana = False\n",
    "start_time_geral = time.time()"
   ]
  },
  {
   "cell_type": "markdown",
   "metadata": {},
   "source": [
    "## Configuração de conexão Pyspark"
   ]
  },
  {
   "cell_type": "code",
   "execution_count": 2,
   "metadata": {},
   "outputs": [],
   "source": [
    "# Configurar SparkSession\n",
    "spark = SparkSession.builder \\\n",
    "    .appName(\"PostgreSQL to Spark\") \\\n",
    "    .config(\"spark.jars\", \"/caminho/para/postgresql-<versao>.jar\") \\\n",
    "    .getOrCreate()\n"
   ]
  },
  {
   "cell_type": "code",
   "execution_count": 3,
   "metadata": {},
   "outputs": [],
   "source": [
    "if jana:\n",
    "    db_config = {\n",
    "        'host': os.getenv('DB_HOST'),\n",
    "        'port': os.getenv('DB_PORT'),\n",
    "        'dbname': os.getenv('DB_NAME_JANA'),\n",
    "        'user': os.getenv('DB_USER'),\n",
    "        'password': os.getenv('DB_PASSWORD')\n",
    "    }\n",
    "else:\n",
    "    db_config = {\n",
    "        'host': os.getenv('DB_HOST'),\n",
    "        'port': os.getenv('DB_PORT'),\n",
    "        'dbname': os.getenv('DB_NAME'),\n",
    "        'user': os.getenv('DB_USER'),\n",
    "        'password': os.getenv('DB_PASSWORD')\n",
    "    }\n",
    "\n",
    "# URL de conexão JDBC\n",
    "jdbc_url = f\"jdbc:postgresql://{db_config['host']}:{db_config['port']}/{db_config['dbname']}\"\n",
    "\n",
    "# Propriedades de conexão\n",
    "connection_properties = {\n",
    "    \"user\": db_config['user'],\n",
    "    \"password\": db_config['password'],\n",
    "    \"driver\": \"org.postgresql.Driver\"\n",
    "}"
   ]
  },
  {
   "cell_type": "markdown",
   "metadata": {},
   "source": [
    "## Configuração de conexão ao Spotify"
   ]
  },
  {
   "cell_type": "code",
   "execution_count": 4,
   "metadata": {},
   "outputs": [],
   "source": [
    "# Carregar variáveis de ambiente do arquivo .env na pasta config \n",
    "if jana:\n",
    "    client_id = os.getenv('CLIENT_ID_JANA') \n",
    "    client_secret = os.getenv('CLIENT_SECRET_JANA')\n",
    "else:\n",
    "    client_id = os.getenv('CLIENT_ID') \n",
    "    client_secret = os.getenv('CLIENT_SECRET')\n",
    "\n",
    "# Configuração da autenticação\n",
    "client_credentials_manager = SpotifyClientCredentials(client_id=client_id, client_secret=client_secret)\n",
    "sp = spotipy.Spotify(client_credentials_manager=client_credentials_manager)"
   ]
  },
  {
   "cell_type": "markdown",
   "metadata": {},
   "source": [
    "## Coleta de dados: Banco de dados"
   ]
  },
  {
   "cell_type": "code",
   "execution_count": 5,
   "metadata": {},
   "outputs": [],
   "source": [
    "start_time = time.time()"
   ]
  },
  {
   "cell_type": "code",
   "execution_count": 6,
   "metadata": {},
   "outputs": [
    {
     "name": "stdout",
     "output_type": "stream",
     "text": [
      "+-------------------+--------------------+---------+------------+--------------+--------------------------+---------------------------------+--------------------------------+--------------------+------------+-----------------+-------------------+------------+----------+-------+-------+-------+-----------------+--------------+\n",
      "|                 ts|            platform|ms_played|conn_country|       ip_addr|master_metadata_track_name|master_metadata_album_artist_name|master_metadata_album_album_name|   spotify_track_uri|episode_name|episode_show_name|spotify_episode_uri|reason_start|reason_end|shuffle|skipped|offline|offline_timestamp|incognito_mode|\n",
      "+-------------------+--------------------+---------+------------+--------------+--------------------------+---------------------------------+--------------------------------+--------------------+------------+-----------------+-------------------+------------+----------+-------+-------+-------+-----------------+--------------+\n",
      "|2019-11-11 00:10:22|Android OS 9 API ...|        0|          BR|187.119.230.96|                Ta Tum Tum|                       MC Kevinho|                      Ta Tum Tum|spotify:track:6et...|        null|             null|               null|    clickrow|   endplay|   true|  false|  false|             null|         false|\n",
      "|2019-11-11 00:11:09|Android OS 9 API ...|        0|          BR|187.119.230.96|      Aperte O Play - A...|                 Simone & Simaria|                  Aperte O Play!|spotify:track:5M8...|        null|             null|               null|    clickrow|   endplay|   true|  false|  false|             null|         false|\n",
      "|2019-11-11 00:11:16|Android OS 9 API ...|     4886|          BR|187.119.230.96|                    Blurry|                   Puddle Of Mudd|                      Come Clean|spotify:track:0FL...|        null|             null|               null|    clickrow|    fwdbtn|   true|  false|  false|             null|         false|\n",
      "|2019-11-11 00:15:36|Android OS 9 API ...|     5858|          BR|187.119.230.96|      Under Pressure - ...|                            Queen|             Platinum Collection|spotify:track:6in...|        null|             null|               null|      fwdbtn|    fwdbtn|   true|  false|  false|             null|         false|\n",
      "+-------------------+--------------------+---------+------------+--------------+--------------------------+---------------------------------+--------------------------------+--------------------+------------+-----------------+-------------------+------------+----------+-------+-------+-------+-----------------+--------------+\n",
      "only showing top 4 rows\n",
      "\n"
     ]
    }
   ],
   "source": [
    "df = spark.read.jdbc(url=jdbc_url, table=\"all_tracks_registry\", properties=connection_properties)\n",
    "df.show(4)\n"
   ]
  },
  {
   "cell_type": "code",
   "execution_count": 7,
   "metadata": {},
   "outputs": [
    {
     "data": {
      "text/plain": [
       "74704"
      ]
     },
     "execution_count": 7,
     "metadata": {},
     "output_type": "execute_result"
    }
   ],
   "source": [
    "df.count()"
   ]
  },
  {
   "cell_type": "code",
   "execution_count": 8,
   "metadata": {},
   "outputs": [
    {
     "name": "stdout",
     "output_type": "stream",
     "text": [
      "root\n",
      " |-- ts: timestamp (nullable = true)\n",
      " |-- platform: string (nullable = true)\n",
      " |-- ms_played: integer (nullable = true)\n",
      " |-- conn_country: string (nullable = true)\n",
      " |-- ip_addr: string (nullable = true)\n",
      " |-- master_metadata_track_name: string (nullable = true)\n",
      " |-- master_metadata_album_artist_name: string (nullable = true)\n",
      " |-- master_metadata_album_album_name: string (nullable = true)\n",
      " |-- spotify_track_uri: string (nullable = true)\n",
      " |-- episode_name: string (nullable = true)\n",
      " |-- episode_show_name: string (nullable = true)\n",
      " |-- spotify_episode_uri: string (nullable = true)\n",
      " |-- reason_start: string (nullable = true)\n",
      " |-- reason_end: string (nullable = true)\n",
      " |-- shuffle: boolean (nullable = true)\n",
      " |-- skipped: boolean (nullable = true)\n",
      " |-- offline: boolean (nullable = true)\n",
      " |-- offline_timestamp: timestamp (nullable = true)\n",
      " |-- incognito_mode: boolean (nullable = true)\n",
      "\n"
     ]
    }
   ],
   "source": [
    "df.printSchema()"
   ]
  },
  {
   "cell_type": "code",
   "execution_count": 9,
   "metadata": {},
   "outputs": [
    {
     "name": "stdout",
     "output_type": "stream",
     "text": [
      "Tempo de processamento: 0:00:23\n"
     ]
    }
   ],
   "source": [
    "end_time = time.time()\n",
    "elapsed_time = end_time - start_time\n",
    "# Converter o tempo decorrido para o formato HH:MM:SS \n",
    "print(f\"Tempo de processamento: {str(timedelta(seconds=int(elapsed_time)))}\")"
   ]
  },
  {
   "cell_type": "markdown",
   "metadata": {},
   "source": [
    "## Coleta dados do Spotify e cria novos bancos"
   ]
  },
  {
   "cell_type": "code",
   "execution_count": 10,
   "metadata": {},
   "outputs": [],
   "source": [
    "start_time = time.time()"
   ]
  },
  {
   "cell_type": "code",
   "execution_count": 11,
   "metadata": {},
   "outputs": [],
   "source": [
    "# Funções de banco de dados Tracks e Artistics\n",
    "import src.db_table_track as db_table_track\n",
    "import src.db_table_artistcs as db_table_artistcs"
   ]
  },
  {
   "cell_type": "code",
   "execution_count": 12,
   "metadata": {},
   "outputs": [
    {
     "name": "stdout",
     "output_type": "stream",
     "text": [
      "Quantidade de faixas: 14403\n"
     ]
    }
   ],
   "source": [
    "# Selecionar e coletar os dados distintos \n",
    "distinct_uris = df.select('spotify_track_uri').distinct().collect() \n",
    "# Transformar em lista de valores simples \n",
    "uris_list = [row['spotify_track_uri'] for row in distinct_uris]\n",
    "print(f'Quantidade de faixas: {len(uris_list)}')"
   ]
  },
  {
   "cell_type": "code",
   "execution_count": 15,
   "metadata": {},
   "outputs": [
    {
     "name": "stdout",
     "output_type": "stream",
     "text": [
      "Faixa número:755\n",
      "n:755, TRACK Já existe no banco\n",
      "n:755, ARTISTIC Já existe no banco\n",
      "Faixa número:756\n",
      "n:756, TRACK Já existe no banco\n",
      "n:756, ARTISTIC Já existe no banco\n",
      "Faixa número:757\n",
      "n:757, TRACK Já existe no banco\n",
      "n:757, ARTISTIC Já existe no banco\n",
      "Faixa número:758\n",
      "n:758, TRACK Já existe no banco\n",
      "n:758, ARTISTIC Já existe no banco\n",
      "Faixa número:759\n",
      "n:759, TRACK Já existe no banco\n",
      "n:759, ARTISTIC Já existe no banco\n",
      "Faixa número:760\n",
      "n:760, ARTISTIC Já existe no banco\n",
      "Faixa número:761\n",
      "Faixa número:762\n",
      "n:762, ARTISTIC Já existe no banco\n",
      "Faixa número:763\n",
      "n:763, ARTISTIC Já existe no banco\n",
      "Faixa número:764\n",
      "n:764, ARTISTIC Já existe no banco\n",
      "Faixa número:765\n",
      "Faixa número:766\n",
      "Faixa número:767\n",
      "n:767, ARTISTIC Já existe no banco\n",
      "Faixa número:768\n",
      "n:768, ARTISTIC Já existe no banco\n",
      "Faixa número:769\n",
      "Faixa número:770\n",
      "Faixa número:771\n",
      "Faixa número:772\n",
      "Faixa número:773\n",
      "Faixa número:774\n",
      "Faixa número:775\n",
      "Faixa número:776\n",
      "Faixa número:777\n",
      "Faixa número:778\n",
      "n:778, ARTISTIC Já existe no banco\n",
      "Faixa número:779\n",
      "Faixa número:780\n",
      "n:780, ARTISTIC Já existe no banco\n",
      "Faixa número:781\n",
      "Faixa número:782\n",
      "Faixa número:783\n",
      "n:783, ARTISTIC Já existe no banco\n",
      "Faixa número:784\n",
      "Faixa número:785\n",
      "Faixa número:786\n",
      "n:786, ARTISTIC Já existe no banco\n",
      "Faixa número:787\n",
      "Faixa número:788\n",
      "n:788, ARTISTIC Já existe no banco\n",
      "Faixa número:789\n",
      "Faixa número:790\n",
      "Faixa número:791\n",
      "Faixa número:792\n",
      "n:792, ARTISTIC Já existe no banco\n",
      "Faixa número:793\n",
      "Faixa número:794\n",
      "n:794, ARTISTIC Já existe no banco\n",
      "Faixa número:795\n",
      "n:795, ARTISTIC Já existe no banco\n",
      "Faixa número:796\n",
      "n:796, ARTISTIC Já existe no banco\n",
      "Faixa número:797\n",
      "Faixa número:798\n",
      "Faixa número:799\n",
      "Faixa número:800\n",
      "n:800, ARTISTIC Já existe no banco\n",
      "Faixa número:801\n",
      "Faixa número:802\n",
      "Faixa número:803\n",
      "Faixa número:804\n",
      "n:804, ARTISTIC Já existe no banco\n",
      "Faixa número:805\n",
      "Faixa número:806\n",
      "Faixa número:807\n",
      "n:807, ARTISTIC Já existe no banco\n",
      "Faixa número:808\n",
      "n:808, ARTISTIC Já existe no banco\n",
      "Faixa número:809\n",
      "Faixa número:810\n",
      "n:810, ARTISTIC Já existe no banco\n",
      "Faixa número:811\n",
      "Faixa número:812\n",
      "Faixa número:813\n",
      "Faixa número:814\n",
      "Faixa número:815\n",
      "n:815, ARTISTIC Já existe no banco\n",
      "Faixa número:816\n",
      "n:816, ARTISTIC Já existe no banco\n",
      "Faixa número:817\n",
      "Faixa número:818\n",
      "Faixa número:819\n",
      "Faixa número:820\n",
      "Faixa número:821\n",
      "Faixa número:822\n",
      "Faixa número:823\n",
      "Faixa número:824\n",
      "Faixa número:825\n",
      "Faixa número:826\n",
      "Faixa número:827\n",
      "Faixa número:828\n",
      "n:828, ARTISTIC Já existe no banco\n",
      "Faixa número:829\n",
      "Faixa número:830\n",
      "Faixa número:831\n",
      "Faixa número:832\n",
      "n:832, ARTISTIC Já existe no banco\n",
      "Faixa número:833\n",
      "Faixa número:834\n",
      "Faixa número:835\n",
      "Faixa número:836\n",
      "Faixa número:837\n",
      "n:837, ARTISTIC Já existe no banco\n",
      "Faixa número:838\n",
      "Faixa número:839\n",
      "Faixa número:840\n",
      "Faixa número:841\n",
      "Faixa número:842\n",
      "n:842, ARTISTIC Já existe no banco\n",
      "Faixa número:843\n",
      "Faixa número:844\n",
      "Faixa número:845\n",
      "n:845, ARTISTIC Já existe no banco\n",
      "Faixa número:846\n",
      "Faixa número:847\n",
      "n:847, ARTISTIC Já existe no banco\n",
      "Faixa número:848\n",
      "n:848, ARTISTIC Já existe no banco\n",
      "Faixa número:849\n",
      "n:849, ARTISTIC Já existe no banco\n",
      "Faixa número:850\n",
      "Faixa número:851\n",
      "n:851, ARTISTIC Já existe no banco\n",
      "Faixa número:852\n",
      "Faixa número:853\n",
      "Faixa número:854\n",
      "Faixa número:855\n",
      "n:855, ARTISTIC Já existe no banco\n",
      "Faixa número:856\n",
      "Faixa número:857\n",
      "n:857, ARTISTIC Já existe no banco\n",
      "Faixa número:858\n",
      "n:858, ARTISTIC Já existe no banco\n",
      "Faixa número:859\n",
      "n:859, ARTISTIC Já existe no banco\n",
      "Faixa número:860\n",
      "Faixa número:861\n",
      "n:861, ARTISTIC Já existe no banco\n",
      "Faixa número:862\n",
      "Faixa número:863\n",
      "n:863, ARTISTIC Já existe no banco\n",
      "Faixa número:864\n",
      "Faixa número:865\n",
      "Faixa número:866\n",
      "Faixa número:867\n",
      "Faixa número:868\n",
      "n:868, ARTISTIC Já existe no banco\n",
      "Faixa número:869\n",
      "n:869, ARTISTIC Já existe no banco\n",
      "Faixa número:870\n",
      "n:870, ARTISTIC Já existe no banco\n",
      "Faixa número:871\n",
      "n:871, ARTISTIC Já existe no banco\n",
      "Faixa número:872\n",
      "n:872, ARTISTIC Já existe no banco\n",
      "Faixa número:873\n",
      "n:873, ARTISTIC Já existe no banco\n",
      "Faixa número:874\n",
      "n:874, ARTISTIC Já existe no banco\n",
      "Faixa número:875\n",
      "n:875, ARTISTIC Já existe no banco\n",
      "Faixa número:876\n",
      "n:876, ARTISTIC Já existe no banco\n",
      "Faixa número:877\n",
      "Faixa número:878\n",
      "n:878, ARTISTIC Já existe no banco\n",
      "Faixa número:879\n",
      "Faixa número:880\n",
      "n:880, ARTISTIC Já existe no banco\n",
      "Faixa número:881\n",
      "Faixa número:882\n",
      "n:882, ARTISTIC Já existe no banco\n",
      "Faixa número:883\n",
      "Faixa número:884\n",
      "n:884, ARTISTIC Já existe no banco\n",
      "Faixa número:885\n",
      "Faixa número:886\n",
      "Faixa número:887\n",
      "Faixa número:888\n",
      "Faixa número:889\n",
      "n:889, ARTISTIC Já existe no banco\n",
      "Faixa número:890\n",
      "Faixa número:891\n",
      "Faixa número:892\n"
     ]
    },
    {
     "ename": "KeyboardInterrupt",
     "evalue": "",
     "output_type": "error",
     "traceback": [
      "\u001b[0;31m---------------------------------------------------------------------------\u001b[0m",
      "\u001b[0;31mKeyboardInterrupt\u001b[0m                         Traceback (most recent call last)",
      "Cell \u001b[0;32mIn[15], line 16\u001b[0m\n\u001b[1;32m     14\u001b[0m     \u001b[38;5;66;03m# Coleta de dados do Artista no Spotify\u001b[39;00m\n\u001b[1;32m     15\u001b[0m     main_artist_uri \u001b[38;5;241m=\u001b[39m dados_faixa[\u001b[38;5;124m'\u001b[39m\u001b[38;5;124mmain_artist_URI\u001b[39m\u001b[38;5;124m'\u001b[39m]\n\u001b[0;32m---> 16\u001b[0m     time\u001b[38;5;241m.\u001b[39msleep(\u001b[38;5;241m5\u001b[39m)\n\u001b[1;32m     18\u001b[0m \u001b[38;5;28;01mif\u001b[39;00m db_table_artistcs\u001b[38;5;241m.\u001b[39martist_exists(main_artist_uri, conn\u001b[38;5;241m=\u001b[39mpsycopg2\u001b[38;5;241m.\u001b[39mconnect(\u001b[38;5;241m*\u001b[39m\u001b[38;5;241m*\u001b[39mdb_config)):\n\u001b[1;32m     19\u001b[0m     \u001b[38;5;66;03m# Não fazer nada se o artista já existir\u001b[39;00m\n\u001b[1;32m     20\u001b[0m     \u001b[38;5;28mprint\u001b[39m(\u001b[38;5;124mf\u001b[39m\u001b[38;5;124m'\u001b[39m\u001b[38;5;124mn:\u001b[39m\u001b[38;5;132;01m{\u001b[39;00mn\u001b[38;5;132;01m}\u001b[39;00m\u001b[38;5;124m, ARTISTIC Já existe no banco\u001b[39m\u001b[38;5;124m'\u001b[39m)\n",
      "\u001b[0;31mKeyboardInterrupt\u001b[0m: "
     ]
    }
   ],
   "source": [
    "n = 890\n",
    "for track_uri in uris_list[n:]:\n",
    "    print(f'Faixa número:{n}')\n",
    "    # Primeiro Verifica se o track já existe na tabela, se FALSE, realiza requisição no spotify\n",
    "    if db_table_track.track_exists(track_uri, conn=psycopg2.connect(**db_config)):\n",
    "        print(f'n:{n}, TRACK Já existe no banco')\n",
    "        main_artist_uri = db_table_track.get_main_artist_uri(track_uri, conn=psycopg2.connect(**db_config))\n",
    "\n",
    "    else:\n",
    "        # Realiza requisição da faixa e depois inseri no banco\n",
    "        dados_faixa = spotify_data.obter_dados_faixa(sp = sp, track_uri = track_uri)\n",
    "        db_table_track.insert_track_data(dados_faixa, conn=psycopg2.connect(**db_config))\n",
    "\n",
    "        # Coleta de dados do Artista no Spotify\n",
    "        main_artist_uri = dados_faixa['main_artist_URI']\n",
    "        time.sleep(5)\n",
    "\n",
    "    if db_table_artistcs.artist_exists(main_artist_uri, conn=psycopg2.connect(**db_config)):\n",
    "        # Não fazer nada se o artista já existir\n",
    "        print(f'n:{n}, ARTISTIC Já existe no banco')\n",
    "        pass\n",
    "    else:\n",
    "        # Realiza requisição do artista e depois inseri no banco\n",
    "        dados_artista = spotify_data.obter_dados_artista(sp=sp, artist_uri = main_artist_uri)\n",
    "        db_table_artistcs.insert_artist_data(dados_artista, conn=psycopg2.connect(**db_config))\n",
    "    \n",
    "    n = n + 1  "
   ]
  },
  {
   "cell_type": "code",
   "execution_count": null,
   "metadata": {},
   "outputs": [],
   "source": [
    "end_time = time.time()\n",
    "elapsed_time = end_time - start_time\n",
    "# Converter o tempo decorrido para o formato HH:MM:SS \n",
    "print(f\"Tempo de processamento: {str(timedelta(seconds=int(elapsed_time)))}\")\n"
   ]
  },
  {
   "cell_type": "code",
   "execution_count": null,
   "metadata": {},
   "outputs": [],
   "source": [
    "# import pyspark.sql.functions as F\n",
    "# df = df.withColumn('ano-mes-dia', F.to_date(F.col(\"ts\")))\n",
    "# df = df.withColumn(\"ano-mes\", F.concat_ws(\"-\", F.year(df[\"ts\"]), F.month(df[\"ts\"])))\n",
    "# df = df.withColumn(\"ano_mes_str\", F.date_format(df[\"ts\"], \"yyyy-MM\")) \n",
    "# df = df.withColumn(\"ano_mes_date\", F.to_date(df[\"ano_mes_str\"], \"yyyy-MM\"))\n",
    "# df.show(5, truncate=False)"
   ]
  }
 ],
 "metadata": {
  "kernelspec": {
   "display_name": "venv_spotify",
   "language": "python",
   "name": "spotify-history-ambiente_spotify-1"
  },
  "language_info": {
   "codemirror_mode": {
    "name": "ipython",
    "version": 3
   },
   "file_extension": ".py",
   "mimetype": "text/x-python",
   "name": "python",
   "nbconvert_exporter": "python",
   "pygments_lexer": "ipython3",
   "version": "3.11.5"
  }
 },
 "nbformat": 4,
 "nbformat_minor": 2
}
