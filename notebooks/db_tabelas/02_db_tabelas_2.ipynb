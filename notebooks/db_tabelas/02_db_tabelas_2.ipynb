{
 "cells": [
  {
   "cell_type": "code",
   "execution_count": 1,
   "metadata": {},
   "outputs": [],
   "source": [
    "import os\n",
    "import sys\n",
    "from dotenv import load_dotenv\n",
    "import psycopg2\n",
    "import spotipy \n",
    "from spotipy.oauth2 import SpotifyClientCredentials\n",
    "sys.path.append('/home/jovyan/work')\n",
    "# Carregar variáveis de ambiente do arquivo .env na pasta config \n",
    "load_dotenv(os.path.join('config', '.env'))\n",
    "\n",
    "%load_ext autoreload\n",
    "%autoreload 2"
   ]
  },
  {
   "cell_type": "code",
   "execution_count": 2,
   "metadata": {},
   "outputs": [],
   "source": [
    "jana = True\n",
    "if jana:\n",
    "    db_config = {\n",
    "        'host': os.getenv('DB_HOST'),\n",
    "        'port': os.getenv('DB_PORT'),\n",
    "        'dbname': os.getenv('DB_NAME_JANA'),\n",
    "        'user': os.getenv('DB_USER'),\n",
    "        'password': os.getenv('DB_PASSWORD')\n",
    "    }\n",
    "else:\n",
    "    db_config = {\n",
    "        'host': os.getenv('DB_HOST'),\n",
    "        'port': os.getenv('DB_PORT'),\n",
    "        'dbname': os.getenv('DB_NAME'),\n",
    "        'user': os.getenv('DB_USER'),\n",
    "        'password': os.getenv('DB_PASSWORD')\n",
    "    }"
   ]
  },
  {
   "cell_type": "markdown",
   "metadata": {},
   "source": [
    "## Cria e Inseri dados:\n",
    "    - Tabela tracks\n",
    "    - Tabela artistics"
   ]
  },
  {
   "cell_type": "code",
   "execution_count": 9,
   "metadata": {},
   "outputs": [
    {
     "name": "stdout",
     "output_type": "stream",
     "text": [
      "track criado com sucesso no banco: db_jana_spotify\n"
     ]
    }
   ],
   "source": [
    "import src.db_table_track as db_table_track\n",
    "\n",
    "db_table_track.create_tracks_table(conn=psycopg2.connect(**db_config))\n",
    "dados = {\n",
    "    \"track_URI\": \"spo:teste:teste\", \n",
    "    \"track_name\": \"teste\", \n",
    "    \"duration_ms\": 10000, \n",
    "    \"popularity\": 00, \n",
    "    \"artists\": [{'name': 'Artista 1', 'uri': 'spotify:artist:1'}, {'name': 'Artista 2', 'uri': 'spotify:artist:2'}], \n",
    "    \"main_artist\": \"Artista 1\", \n",
    "    \"main_artist_URI\": \"spotify:artist:1\",\n",
    "    \"album_images\": [{'url': 'image1.jpg'}, {'url': 'image2.jpg'}]\n",
    "}\n",
    "db_table_track.insert_track_data(dados, conn=psycopg2.connect(**db_config))\n"
   ]
  },
  {
   "cell_type": "code",
   "execution_count": 10,
   "metadata": {},
   "outputs": [
    {
     "name": "stdout",
     "output_type": "stream",
     "text": [
      "artists criado com sucesso no banco: db_jana_spotify\n"
     ]
    }
   ],
   "source": [
    "import src.db_table_artistcs as db_table_artistcs\n",
    "\n",
    "db_table_artistcs.create_artists_table(conn=psycopg2.connect(**db_config))\n",
    "dados_artista = {\n",
    "    \"artist_URI\": \"teste:artist:teste\",\n",
    "    \"artist_name\": \"Nome do Artista\",\n",
    "    \"followers\": 50000,\n",
    "    \"popularity\": 00,\n",
    "    \"genres\": [\"genre1\", \"genre2\"],\n",
    "    \"artist_images\": [{'url': 'image1.jpg'}, {'url': 'image2.jpg'}]\n",
    "}\n",
    "db_table_artistcs.insert_artist_data(dados_artista, conn=psycopg2.connect(**db_config))"
   ]
  }
 ],
 "metadata": {
  "kernelspec": {
   "display_name": "venv_spotify",
   "language": "python",
   "name": "spotify-history-ambiente_spotify-1"
  }
 },
 "nbformat": 4,
 "nbformat_minor": 2
}
