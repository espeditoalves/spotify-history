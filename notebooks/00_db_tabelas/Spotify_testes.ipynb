{
 "cells": [
  {
   "cell_type": "code",
   "execution_count": 6,
   "metadata": {},
   "outputs": [
    {
     "name": "stdout",
     "output_type": "stream",
     "text": [
      "The autoreload extension is already loaded. To reload it, use:\n",
      "  %reload_ext autoreload\n"
     ]
    }
   ],
   "source": [
    "import time\n",
    "import os\n",
    "import sys\n",
    "from dotenv import load_dotenv \n",
    "import spotipy \n",
    "from spotipy.oauth2 import SpotifyClientCredentials\n",
    "\n",
    "\n",
    "sys.path.append('/home/jovyan/work')\n",
    "%load_ext autoreload\n",
    "%autoreload 2"
   ]
  },
  {
   "cell_type": "code",
   "execution_count": 7,
   "metadata": {},
   "outputs": [],
   "source": [
    "\n",
    "# Carregar variáveis de ambiente do arquivo .env na pasta config \n",
    "load_dotenv(os.path.join('config', '.env'))\n",
    "\n",
    "jana = True\n",
    "if jana:\n",
    "    client_id = os.getenv('CLIENT_ID_JANA') \n",
    "    client_secret = os.getenv('CLIENT_SECRET_JANA')\n",
    "else:\n",
    "    client_id = os.getenv('CLIENT_ID') \n",
    "    client_secret = os.getenv('CLIENT_SECRET')\n",
    "\n",
    "# Configuração da autenticação\n",
    "client_credentials_manager = SpotifyClientCredentials(client_id=client_id, client_secret=client_secret)\n",
    "sp = spotipy.Spotify(client_credentials_manager=client_credentials_manager)"
   ]
  },
  {
   "cell_type": "code",
   "execution_count": 8,
   "metadata": {},
   "outputs": [
    {
     "data": {
      "text/plain": [
       "dict_keys(['album', 'artists', 'available_markets', 'disc_number', 'duration_ms', 'explicit', 'external_ids', 'external_urls', 'href', 'id', 'is_local', 'name', 'popularity', 'preview_url', 'track_number', 'type', 'uri'])"
      ]
     },
     "execution_count": 8,
     "metadata": {},
     "output_type": "execute_result"
    }
   ],
   "source": [
    "time.sleep(5)\n",
    "# URI da faixa\n",
    "track_uri = 'spotify:track:6etab3UBCo5GOTMZqUvRka'\n",
    "\n",
    "# Obtendo informações da faixa\n",
    "track_info = sp.track(track_uri)\n",
    "track_info.keys()"
   ]
  },
  {
   "cell_type": "code",
   "execution_count": 9,
   "metadata": {},
   "outputs": [
    {
     "name": "stdout",
     "output_type": "stream",
     "text": [
      "TABELA: tb_cadastro_faixas_compl\n",
      "*********\n",
      "URI da Faixa: spotify:track:6etab3UBCo5GOTMZqUvRka\n",
      "Nome da Faixa: Ta Tum Tum\n",
      "Duração (ms): 164157\n",
      "Popularidade: 49\n",
      "Lista de artistas salvos\n",
      "Imagens do album [{'url': 'https://i.scdn.co/image/ab67616d0000b27303cd0cc77bfd4ce717a3d879', 'width': 640, 'height': 640}, {'url': 'https://i.scdn.co/image/ab67616d00001e0203cd0cc77bfd4ce717a3d879', 'width': 300, 'height': 300}, {'url': 'https://i.scdn.co/image/ab67616d0000485103cd0cc77bfd4ce717a3d879', 'width': 64, 'height': 64}]\n",
      "---\n",
      "Artista principal: MC Kevinho\n",
      "URI do Artista principal: spotify:artist:1mXAhKnZEdF6rotyyd4GBi\n",
      "=============\n"
     ]
    }
   ],
   "source": [
    "print('TABELA: tb_cadastro_faixas_compl')\n",
    "print('*********')\n",
    "print(f\"URI da Faixa: {track_info['uri']}\") \n",
    "print(f\"Nome da Faixa: {track_info['name']}\") \n",
    "print(f\"Duração (ms): {track_info['duration_ms']}\") \n",
    "print(f\"Popularidade: {track_info['popularity']}\")\n",
    "print(f'Lista de artistas salvos')\n",
    "print(f\"Imagens do album {track_info['album']['images']}\")\n",
    "print('---')\n",
    "print(f\"Artista principal: {track_info['artists'][0]['name']}\")\n",
    "print(f\"URI do Artista principal: {track_info['artists'][0]['uri']}\")\n",
    "print('=============')"
   ]
  },
  {
   "cell_type": "code",
   "execution_count": 10,
   "metadata": {},
   "outputs": [
    {
     "name": "stdout",
     "output_type": "stream",
     "text": [
      "TABELA: tb_cadatro_artist\n",
      "*********\n",
      "URI do Artista: spotify:artist:1mXAhKnZEdF6rotyyd4GBi\n",
      "Nome do Artista: MC Kevinho\n",
      "Followers: 7106196\n",
      "Popularidade: 66\n",
      "Gêneros: ['funk carioca', 'funk ostentacao', 'funk pop', 'sertanejo universitario']\n",
      "Fotos do artista: [{'url': 'https://i.scdn.co/image/ab6761610000e5ebe50f4609d1968fce10e209bd', 'height': 640, 'width': 640}, {'url': 'https://i.scdn.co/image/ab67616100005174e50f4609d1968fce10e209bd', 'height': 320, 'width': 320}, {'url': 'https://i.scdn.co/image/ab6761610000f178e50f4609d1968fce10e209bd', 'height': 160, 'width': 160}]\n"
     ]
    }
   ],
   "source": [
    "# Buscar informações sobre um artista \n",
    "artist_id = 'spotify:artist:1mXAhKnZEdF6rotyyd4GBi' \n",
    "artist_info = sp.artist(artist_id)\n",
    "print('TABELA: tb_cadatro_artist')\n",
    "print('*********')\n",
    "print(f\"URI do Artista: {artist_info['uri']}\") \n",
    "print(f\"Nome do Artista: {artist_info['name']}\")\n",
    "print(f\"Followers: {artist_info['followers']['total']}\")\n",
    "print(f\"Popularidade: {artist_info['popularity']}\")\n",
    "# print(f\"Gêneros: {', '.join(artist_info['genres'])}\")\n",
    "print(f\"Gêneros: {artist_info['genres']}\")\n",
    "print(f\"Fotos do artista: {artist_info['images']}\")"
   ]
  },
  {
   "cell_type": "markdown",
   "metadata": {},
   "source": [
    "## Coleta de dados do spotify: \n",
    "    - Tracks\n",
    "    - Artistics"
   ]
  },
  {
   "cell_type": "code",
   "execution_count": 11,
   "metadata": {},
   "outputs": [],
   "source": [
    "import src.spotify_data as spotify_data"
   ]
  },
  {
   "cell_type": "code",
   "execution_count": 12,
   "metadata": {},
   "outputs": [
    {
     "data": {
      "text/plain": [
       "{'track_URI': 'spotify:track:7H0UxIN751StFi2tznmHlg',\n",
       " 'track_name': 'Postcards from Italy',\n",
       " 'duration_ms': 257480,\n",
       " 'popularity': 56,\n",
       " 'artists': [{'external_urls': {'spotify': 'https://open.spotify.com/artist/6pmxr66tMAePxzOLfjGNcX'},\n",
       "   'href': 'https://api.spotify.com/v1/artists/6pmxr66tMAePxzOLfjGNcX',\n",
       "   'id': '6pmxr66tMAePxzOLfjGNcX',\n",
       "   'name': 'Beirut',\n",
       "   'type': 'artist',\n",
       "   'uri': 'spotify:artist:6pmxr66tMAePxzOLfjGNcX'}],\n",
       " 'main_artist': 'Beirut',\n",
       " 'main_artist_URI': 'spotify:artist:6pmxr66tMAePxzOLfjGNcX',\n",
       " 'album_images': [{'url': 'https://i.scdn.co/image/ab67616d0000b2736ad0ccb944d30d7e47d26c9a',\n",
       "   'width': 640,\n",
       "   'height': 640},\n",
       "  {'url': 'https://i.scdn.co/image/ab67616d00001e026ad0ccb944d30d7e47d26c9a',\n",
       "   'width': 300,\n",
       "   'height': 300},\n",
       "  {'url': 'https://i.scdn.co/image/ab67616d000048516ad0ccb944d30d7e47d26c9a',\n",
       "   'width': 64,\n",
       "   'height': 64}]}"
      ]
     },
     "execution_count": 12,
     "metadata": {},
     "output_type": "execute_result"
    }
   ],
   "source": [
    "track_uri = 'spotify:track:7H0UxIN751StFi2tznmHlg'\n",
    "dados_faixa = spotify_data.obter_dados_faixa(sp = sp, track_uri = track_uri)\n",
    "dados_faixa"
   ]
  },
  {
   "cell_type": "code",
   "execution_count": 7,
   "metadata": {},
   "outputs": [],
   "source": [
    "artist_id = 'spotify:artist:1mXAhKnZEdF6rotyyd4GBi' \n",
    "dados_artista = spotify_data.obter_dados_artista(sp=sp, artist_uri = artist_id)\n",
    "dados_artista"
   ]
  },
  {
   "cell_type": "markdown",
   "metadata": {},
   "source": [
    "## Teste para inserir dados nas tabelas"
   ]
  },
  {
   "cell_type": "code",
   "execution_count": 8,
   "metadata": {},
   "outputs": [],
   "source": [
    "import src.db_table_track as db_table_track\n",
    "import src.db_table_artistcs as db_table_artistcs"
   ]
  },
  {
   "cell_type": "code",
   "execution_count": 9,
   "metadata": {},
   "outputs": [],
   "source": [
    "db_table_track.insert_track_data(dados_faixa)"
   ]
  },
  {
   "cell_type": "code",
   "execution_count": 10,
   "metadata": {},
   "outputs": [],
   "source": [
    "db_table_artistcs.insert_artist_data(dados_artista)"
   ]
  }
 ],
 "metadata": {
  "kernelspec": {
   "display_name": "venv_spotify",
   "language": "python",
   "name": "spotify-history-ambiente_spotify-1"
  },
  "language_info": {
   "codemirror_mode": {
    "name": "ipython",
    "version": 3
   },
   "file_extension": ".py",
   "mimetype": "text/x-python",
   "name": "python",
   "nbconvert_exporter": "python",
   "pygments_lexer": "ipython3",
   "version": "3.11.5"
  }
 },
 "nbformat": 4,
 "nbformat_minor": 2
}
