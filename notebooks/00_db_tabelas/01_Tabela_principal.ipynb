{
 "cells": [
  {
   "cell_type": "markdown",
   "metadata": {},
   "source": [
    "# 01_Tabela_principal"
   ]
  },
  {
   "cell_type": "markdown",
   "metadata": {},
   "source": [
    "Esse notebook tem o objeto de cria a tabela **`all_tracks_registry`** do banco de dados, além de inserir os meus dados do formato json para o banco de dados **PostgreSQL**."
   ]
  },
  {
   "cell_type": "markdown",
   "metadata": {},
   "source": [
    "<a id='indice'></a>\n",
    "## Indice\n",
    "\n",
    "* [0. Importa bibliotecas e Variáveis de Ambiente](#0)\n",
    "* [1. Cria tabela principal no Banco de Dados](#1)\n",
    "* [2. Inseri dados no banco](#2)"
   ]
  },
  {
   "cell_type": "markdown",
   "metadata": {},
   "source": [
    "<a id='0'></a>\n",
    "---\n",
    "\n",
    "[Retorna ao Índice](#indice)\n",
    "\n",
    "## 0. Importa Bibliotecas e Variáveis de Ambiente"
   ]
  },
  {
   "cell_type": "code",
   "execution_count": null,
   "metadata": {},
   "outputs": [],
   "source": [
    "import time\n",
    "from datetime import timedelta\n",
    "\n",
    "import sys\n",
    "import os\n",
    "import json\n",
    "import psycopg2\n",
    "from psycopg2 import sql\n",
    "from dotenv import load_dotenv \n",
    "sys.path.append('/home/jovyan/work')\n",
    "import src.db_table_spotify_history as tbh\n",
    "# Carregar variáveis de ambiente do arquivo .env\n",
    "load_dotenv(os.path.join('config', '.env'))\n",
    "# Configuração da conexão com o banco de dados\n",
    "\n",
    "## MUDE AQUI O NOME DO USUARIO\n",
    "user_name = 'User_J'\n",
    "user = True if user_name == 'User_E'  else False\n",
    "if user:\n",
    "    # Este Banco de dados foi criado pelo CONTAINER DOCKER\n",
    "    db_config = {\n",
    "        'host': os.getenv('DB_HOST'),\n",
    "        'port': os.getenv('DB_PORT'),\n",
    "        'dbname': os.getenv('DB_NAME'),\n",
    "        'user': os.getenv('DB_USER'),\n",
    "        'password': os.getenv('DB_PASSWORD')\n",
    "    }\n",
    "    # Diretório onde estão localizados os arquivos JSON\n",
    "    json_dir = '/home/jovyan/work/data/User_E_spotify_data/'\n",
    "else:\n",
    "    # Necessário criar o Banco de dados desse usuario na mão:\n",
    "    # Pode usar \"CREATE DATABASE db_jana_spotify TEMPLATE template0;\"\n",
    "    db_config = {\n",
    "        'host': os.getenv('DB_HOST'),\n",
    "        'port': os.getenv('DB_PORT'),\n",
    "        'dbname': os.getenv('DB_NAME_J'),\n",
    "        'user': os.getenv('DB_USER'),\n",
    "        'password': os.getenv('DB_PASSWORD')\n",
    "        }\n",
    "    # Diretório onde estão localizados os arquivos JSON\n",
    "    json_dir = '/home/jovyan/work/data/User_J_spotify_data'\n",
    "\n",
    "\n",
    "\n",
    "def connect_to_db() -> psycopg2.extensions.connection:\n",
    "    \"\"\"\n",
    "    Função para conectar ao banco de dados PostgreSQL.\n",
    "\n",
    "    Retorna:\n",
    "        conn (psycopg2.extensions.connection): Objeto de conexão com o banco de dados.\n",
    "    \"\"\"\n",
    "    try:\n",
    "        conn = psycopg2.connect(**db_config)\n",
    "        print(\"Conexão com o banco de dados estabelecida com sucesso!\")\n",
    "        return conn\n",
    "    except psycopg2.Error as e:\n",
    "        print(f\"Erro ao conectar ao banco de dados: {e}\")\n",
    "        return None"
   ]
  },
  {
   "cell_type": "markdown",
   "metadata": {},
   "source": [
    "<a id='1'></a>\n",
    "---\n",
    "\n",
    "[Retorna ao Índice](#indice)\n",
    "\n",
    "## 1. Cria tabela principal no Banco de Dados"
   ]
  },
  {
   "cell_type": "code",
   "execution_count": 2,
   "metadata": {},
   "outputs": [
    {
     "name": "stdout",
     "output_type": "stream",
     "text": [
      "Conexão com o banco de dados estabelecida com sucesso!\n",
      "Tabela criada com sucesso!\n"
     ]
    }
   ],
   "source": [
    "tbh.create_table_all_tracks_registry(conn=connect_to_db())"
   ]
  },
  {
   "cell_type": "markdown",
   "metadata": {},
   "source": [
    "<a id='2'></a>\n",
    "---\n",
    "\n",
    "[Retorna ao Índice](#indice)\n",
    "\n",
    "## 2. Inseri dados no banco"
   ]
  },
  {
   "cell_type": "code",
   "execution_count": 3,
   "metadata": {},
   "outputs": [],
   "source": [
    "def process_json_files() -> None:\n",
    "    \"\"\"\n",
    "    Processa arquivos JSON e insere os dados no banco de dados PostgreSQL.\n",
    "\n",
    "    Retorna:\n",
    "        None\n",
    "    \"\"\"\n",
    "    conn = psycopg2.connect(**db_config)\n",
    "    \n",
    "    try:\n",
    "        for filename in os.listdir(json_dir):\n",
    "            if filename.endswith('.json'):\n",
    "                print(f'Inserindo dados do arquivo:{filename}')\n",
    "                with open(os.path.join(json_dir, filename), 'r') as file:\n",
    "                    json_data = json.load(file)\n",
    "                    \n",
    "                    # Assumindo que json_data é uma lista de dicionários\n",
    "                    for dicionario in json_data:\n",
    "                        tbh.insert_data(conn = conn, data = dicionario, your_table_name = 'all_tracks_registry')\n",
    "                print(f'Dados de {filename} inseridos')\n",
    "                print('=====')\n",
    "    finally:\n",
    "        conn.close()\n"
   ]
  },
  {
   "cell_type": "code",
   "execution_count": 4,
   "metadata": {},
   "outputs": [],
   "source": [
    "start_time = time.time()"
   ]
  },
  {
   "cell_type": "code",
   "execution_count": 5,
   "metadata": {},
   "outputs": [
    {
     "name": "stdout",
     "output_type": "stream",
     "text": [
      "Inserindo dados do arquivo:Streaming_History_Audio_2021-2023_0.json\n",
      "Dados de Streaming_History_Audio_2021-2023_0.json inseridos\n",
      "=====\n",
      "Inserindo dados do arquivo:Streaming_History_Audio_2023-2024_1.json\n",
      "Dados de Streaming_History_Audio_2023-2024_1.json inseridos\n",
      "=====\n",
      "Inserindo dados do arquivo:Streaming_History_Video_2023-2024.json\n",
      "Dados de Streaming_History_Video_2023-2024.json inseridos\n",
      "=====\n"
     ]
    }
   ],
   "source": [
    "process_json_files()"
   ]
  },
  {
   "cell_type": "code",
   "execution_count": 6,
   "metadata": {},
   "outputs": [
    {
     "name": "stdout",
     "output_type": "stream",
     "text": [
      "Tempo de processamento: 0:01:18\n"
     ]
    }
   ],
   "source": [
    "end_time = time.time()\n",
    "elapsed_time = end_time - start_time\n",
    "# Converter o tempo decorrido para o formato HH:MM:SS \n",
    "print(f\"Tempo de processamento: {str(timedelta(seconds=int(elapsed_time)))}\")"
   ]
  }
 ],
 "metadata": {
  "kernelspec": {
   "display_name": "minha_venv",
   "language": "python",
   "name": "ambiente_exploratorio"
  },
  "language_info": {
   "codemirror_mode": {
    "name": "ipython",
    "version": 3
   },
   "file_extension": ".py",
   "mimetype": "text/x-python",
   "name": "python",
   "nbconvert_exporter": "python",
   "pygments_lexer": "ipython3",
   "version": "3.11.5"
  }
 },
 "nbformat": 4,
 "nbformat_minor": 2
}
