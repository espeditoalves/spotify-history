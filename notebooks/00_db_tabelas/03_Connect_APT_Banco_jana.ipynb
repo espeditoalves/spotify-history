{
 "cells": [
  {
   "cell_type": "code",
   "execution_count": 1,
   "metadata": {},
   "outputs": [],
   "source": [
    "%load_ext autoreload\n",
    "%autoreload 2\n",
    "\n",
    "# Importar bibliotecas padrão\n",
    "import time\n",
    "from datetime import timedelta\n",
    "import os\n",
    "\n",
    "# Carregar variáveis de ambiente\n",
    "from dotenv import load_dotenv\n",
    "load_dotenv(os.path.join('config', '.env'))\n",
    "\n",
    "# Importar bibliotecas para PostgreSQL\n",
    "import psycopg2\n",
    "\n",
    "# Importar bibliotecas para Spotify API\n",
    "import spotipy\n",
    "from spotipy.oauth2 import SpotifyClientCredentials\n",
    "import src.spotify_data as spotify_data\n",
    "\n",
    "# Importar bibliotecas para PySpark\n",
    "from pyspark.sql import SparkSession\n",
    "\n",
    "\n",
    "user_name = 'User_2'\n",
    "user = True if user_name == 'User_1'  else False\n",
    "\n",
    "start_time_geral = time.time()"
   ]
  },
  {
   "cell_type": "markdown",
   "metadata": {},
   "source": [
    "## Configuração de Conexão Pyspark"
   ]
  },
  {
   "cell_type": "code",
   "execution_count": 2,
   "metadata": {},
   "outputs": [],
   "source": [
    "# Configurar SparkSession\n",
    "spark = SparkSession.builder \\\n",
    "    .appName(\"PostgreSQL to Spark\") \\\n",
    "    .config(\"spark.jars\", \"/caminho/para/postgresql-<versao>.jar\") \\\n",
    "    .getOrCreate()\n"
   ]
  },
  {
   "cell_type": "code",
   "execution_count": 3,
   "metadata": {},
   "outputs": [],
   "source": [
    "if user:\n",
    "    db_config = {\n",
    "        'host': os.getenv('DB_HOST'),\n",
    "        'port': os.getenv('DB_PORT'),\n",
    "        'dbname': os.getenv('DB_NAME'),\n",
    "        'user': os.getenv('DB_USER'),\n",
    "        'password': os.getenv('DB_PASSWORD')\n",
    "    }\n",
    "\n",
    "else:\n",
    "    db_config = {\n",
    "        'host': os.getenv('DB_HOST'),\n",
    "        'port': os.getenv('DB_PORT'),\n",
    "        'dbname': os.getenv('DB_NAME_2'),\n",
    "        'user': os.getenv('DB_USER'),\n",
    "        'password': os.getenv('DB_PASSWORD')\n",
    "        }\n",
    "\n",
    "# URL de conexão JDBC\n",
    "jdbc_url = f\"jdbc:postgresql://{db_config['host']}:{db_config['port']}/{db_config['dbname']}\"\n",
    "\n",
    "# Propriedades de conexão\n",
    "connection_properties = {\n",
    "    \"user\": db_config['user'],\n",
    "    \"password\": db_config['password'],\n",
    "    \"driver\": \"org.postgresql.Driver\"\n",
    "}"
   ]
  },
  {
   "cell_type": "markdown",
   "metadata": {},
   "source": [
    "## Configuração de Conexão ao Spotify"
   ]
  },
  {
   "cell_type": "code",
   "execution_count": 4,
   "metadata": {},
   "outputs": [],
   "source": [
    "# Carregar variáveis de ambiente do arquivo .env na pasta config \n",
    "if user:\n",
    "    client_id = os.getenv('CLIENT_ID') \n",
    "    client_secret = os.getenv('CLIENT_SECRET')\n",
    "else:\n",
    "    client_id = os.getenv('CLIENT_ID_2') \n",
    "    client_secret = os.getenv('CLIENT_SECRET_2')\n",
    "\n",
    "# Configuração da autenticação\n",
    "client_credentials_manager = SpotifyClientCredentials(client_id=client_id, client_secret=client_secret)\n",
    "sp = spotipy.Spotify(client_credentials_manager=client_credentials_manager)"
   ]
  },
  {
   "cell_type": "markdown",
   "metadata": {},
   "source": [
    "## Coleta de dados: Banco de dados"
   ]
  },
  {
   "cell_type": "code",
   "execution_count": 5,
   "metadata": {},
   "outputs": [],
   "source": [
    "start_time = time.time()"
   ]
  },
  {
   "cell_type": "code",
   "execution_count": 6,
   "metadata": {},
   "outputs": [
    {
     "name": "stdout",
     "output_type": "stream",
     "text": [
      "+-------------------+--------------------+---------+------------+--------------+--------------------------+---------------------------------+--------------------------------+--------------------+------------+-----------------+-------------------+------------+----------+-------+-------+-------+-----------------+--------------+\n",
      "|                 ts|            platform|ms_played|conn_country|       ip_addr|master_metadata_track_name|master_metadata_album_artist_name|master_metadata_album_album_name|   spotify_track_uri|episode_name|episode_show_name|spotify_episode_uri|reason_start|reason_end|shuffle|skipped|offline|offline_timestamp|incognito_mode|\n",
      "+-------------------+--------------------+---------+------------+--------------+--------------------------+---------------------------------+--------------------------------+--------------------+------------+-----------------+-------------------+------------+----------+-------+-------+-------+-----------------+--------------+\n",
      "|2021-09-02 12:02:02|Android OS 10 API...|    77080|          BR|201.139.217.52|              40 Day Dream|             Edward Sharpe & T...|                   Up from Below|spotify:track:12W...|        null|             null|               null|    clickrow|    logout|  false|  false|  false|             null|         false|\n",
      "|2021-09-02 12:05:45|Android OS 10 API...|   200993|          BR|201.139.217.52|      Lutar Pelo Que E Meu|                Charlie Brown Jr.|               Imunidade Musical|spotify:track:6LA...|        null|             null|               null|    clickrow| trackdone|  false|  false|  false|             null|         false|\n",
      "|2021-09-02 12:08:44|Android OS 10 API...|   179200|          BR|201.139.217.52|                  É Quente|                Charlie Brown Jr.|               Imunidade Musical|spotify:track:0ZP...|        null|             null|               null|   trackdone| trackdone|  false|  false|  false|             null|         false|\n",
      "|2021-09-02 12:12:51|Android OS 10 API...|   247711|          BR|201.139.217.52|      Onde Não Existe A...|                Charlie Brown Jr.|               Imunidade Musical|spotify:track:74n...|        null|             null|               null|   trackdone| trackdone|  false|  false|  false|             null|         false|\n",
      "+-------------------+--------------------+---------+------------+--------------+--------------------------+---------------------------------+--------------------------------+--------------------+------------+-----------------+-------------------+------------+----------+-------+-------+-------+-----------------+--------------+\n",
      "only showing top 4 rows\n",
      "\n"
     ]
    }
   ],
   "source": [
    "df = spark.read.jdbc(url=jdbc_url, table=\"all_tracks_registry\", properties=connection_properties)\n",
    "df.show(4)\n"
   ]
  },
  {
   "cell_type": "code",
   "execution_count": 7,
   "metadata": {},
   "outputs": [
    {
     "data": {
      "text/plain": [
       "37185"
      ]
     },
     "execution_count": 7,
     "metadata": {},
     "output_type": "execute_result"
    }
   ],
   "source": [
    "df.count()"
   ]
  },
  {
   "cell_type": "code",
   "execution_count": 8,
   "metadata": {},
   "outputs": [
    {
     "name": "stdout",
     "output_type": "stream",
     "text": [
      "root\n",
      " |-- ts: timestamp (nullable = true)\n",
      " |-- platform: string (nullable = true)\n",
      " |-- ms_played: integer (nullable = true)\n",
      " |-- conn_country: string (nullable = true)\n",
      " |-- ip_addr: string (nullable = true)\n",
      " |-- master_metadata_track_name: string (nullable = true)\n",
      " |-- master_metadata_album_artist_name: string (nullable = true)\n",
      " |-- master_metadata_album_album_name: string (nullable = true)\n",
      " |-- spotify_track_uri: string (nullable = true)\n",
      " |-- episode_name: string (nullable = true)\n",
      " |-- episode_show_name: string (nullable = true)\n",
      " |-- spotify_episode_uri: string (nullable = true)\n",
      " |-- reason_start: string (nullable = true)\n",
      " |-- reason_end: string (nullable = true)\n",
      " |-- shuffle: boolean (nullable = true)\n",
      " |-- skipped: boolean (nullable = true)\n",
      " |-- offline: boolean (nullable = true)\n",
      " |-- offline_timestamp: timestamp (nullable = true)\n",
      " |-- incognito_mode: boolean (nullable = true)\n",
      "\n"
     ]
    }
   ],
   "source": [
    "df.printSchema()"
   ]
  },
  {
   "cell_type": "code",
   "execution_count": 9,
   "metadata": {},
   "outputs": [
    {
     "name": "stdout",
     "output_type": "stream",
     "text": [
      "Tempo de processamento: 0:00:11\n"
     ]
    }
   ],
   "source": [
    "end_time = time.time()\n",
    "elapsed_time = end_time - start_time\n",
    "# Converter o tempo decorrido para o formato HH:MM:SS \n",
    "print(f\"Tempo de processamento: {str(timedelta(seconds=int(elapsed_time)))}\")"
   ]
  },
  {
   "cell_type": "markdown",
   "metadata": {},
   "source": [
    "## Coleta Dados do Spotify e Cria Novos Bancos"
   ]
  },
  {
   "cell_type": "code",
   "execution_count": 10,
   "metadata": {},
   "outputs": [],
   "source": [
    "start_time = time.time()"
   ]
  },
  {
   "cell_type": "code",
   "execution_count": 11,
   "metadata": {},
   "outputs": [],
   "source": [
    "# Funções de banco de dados Tracks e Artistics\n",
    "import src.db_table_track as db_table_track\n",
    "import src.db_table_artistcs as db_table_artistcs"
   ]
  },
  {
   "cell_type": "code",
   "execution_count": 12,
   "metadata": {},
   "outputs": [
    {
     "name": "stdout",
     "output_type": "stream",
     "text": [
      "Quantidade de faixas: 6794\n"
     ]
    }
   ],
   "source": [
    "# Selecionar e coletar os dados distintos \n",
    "distinct_uris = df.select('spotify_track_uri').distinct().collect() \n",
    "# Transformar em lista de valores simples \n",
    "uris_list = [row['spotify_track_uri'] for row in distinct_uris]\n",
    "print(f'Quantidade de faixas: {len(uris_list)}')"
   ]
  },
  {
   "cell_type": "code",
   "execution_count": 19,
   "metadata": {},
   "outputs": [
    {
     "data": {
      "text/plain": [
       "'spotify:track:2QZ7WLBE8h2y1Y5Fb8RYbH'"
      ]
     },
     "execution_count": 19,
     "metadata": {},
     "output_type": "execute_result"
    }
   ],
   "source": [
    "uris_list[1405]"
   ]
  },
  {
   "cell_type": "code",
   "execution_count": null,
   "metadata": {},
   "outputs": [],
   "source": [
    "n = 2538\n",
    "for track_uri in uris_list[n:]:\n",
    "    print(f'Faixa número:{n}')\n",
    "    # Primeiro Verifica se o track já existe na tabela, se FALSE, realiza requisição no spotify\n",
    "    if db_table_track.track_exists(track_uri, conn=psycopg2.connect(**db_config)):\n",
    "        print(f'n:{n}, TRACK Já existe no banco')\n",
    "        main_artist_uri = db_table_track.get_main_artist_uri(track_uri, conn=psycopg2.connect(**db_config))\n",
    "\n",
    "    else:\n",
    "        # Realiza requisição da faixa e depois inseri no banco\n",
    "        dados_faixa = spotify_data.obter_dados_faixa(sp = sp, track_uri = track_uri)\n",
    "        db_table_track.insert_track_data(dados_faixa, conn=psycopg2.connect(**db_config))\n",
    "\n",
    "        # Coleta de dados do Artista no Spotify\n",
    "        main_artist_uri = dados_faixa['main_artist_URI']\n",
    "\n",
    "    if db_table_artistcs.artist_exists(main_artist_uri, conn=psycopg2.connect(**db_config)):\n",
    "        # Não fazer nada se o artista já existir\n",
    "        print(f'n:{n}, ARTISTIC Já existe no banco')\n",
    "        pass\n",
    "    else:\n",
    "        # Realiza requisição do artista e depois inseri no banco\n",
    "        dados_artista = spotify_data.obter_dados_artista(sp=sp, artist_uri = main_artist_uri)\n",
    "        db_table_artistcs.insert_artist_data(dados_artista, conn=psycopg2.connect(**db_config))\n",
    "    time.sleep(5)\n",
    "    n = n + 1  "
   ]
  },
  {
   "cell_type": "code",
   "execution_count": 21,
   "metadata": {},
   "outputs": [
    {
     "name": "stdout",
     "output_type": "stream",
     "text": [
      "Tempo de processamento: 4:36:50\n"
     ]
    }
   ],
   "source": [
    "end_time = time.time()\n",
    "elapsed_time = end_time - start_time\n",
    "# Converter o tempo decorrido para o formato HH:MM:SS \n",
    "print(f\"Tempo de processamento: {str(timedelta(seconds=int(elapsed_time)))}\")\n"
   ]
  },
  {
   "cell_type": "code",
   "execution_count": null,
   "metadata": {},
   "outputs": [],
   "source": [
    "# import pyspark.sql.functions as F\n",
    "# df = df.withColumn('ano-mes-dia', F.to_date(F.col(\"ts\")))\n",
    "# df = df.withColumn(\"ano-mes\", F.concat_ws(\"-\", F.year(df[\"ts\"]), F.month(df[\"ts\"])))\n",
    "# df = df.withColumn(\"ano_mes_str\", F.date_format(df[\"ts\"], \"yyyy-MM\")) \n",
    "# df = df.withColumn(\"ano_mes_date\", F.to_date(df[\"ano_mes_str\"], \"yyyy-MM\"))\n",
    "# df.show(5, truncate=False)"
   ]
  }
 ],
 "metadata": {
  "kernelspec": {
   "display_name": "venv_spotify",
   "language": "python",
   "name": "spotify-history-ambiente_spotify-1"
  }
 },
 "nbformat": 4,
 "nbformat_minor": 2
}
